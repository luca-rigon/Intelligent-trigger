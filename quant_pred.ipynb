{
  "nbformat": 4,
  "nbformat_minor": 0,
  "metadata": {
    "colab": {
      "name": "quant_pred.ipynb",
      "provenance": [],
      "collapsed_sections": [],
      "authorship_tag": "ABX9TyNtaykJdiyf697Gboi0HKRN"
    },
    "kernelspec": {
      "display_name": "Python 3",
      "name": "python3"
    },
    "language_info": {
      "name": "python"
    }
  },
  "cells": [
    {
      "cell_type": "code",
      "metadata": {
        "colab": {
          "base_uri": "https://localhost:8080/"
        },
        "id": "FihbB0QeFTIy",
        "outputId": "820753cf-7d16-4302-d18b-d1ddbfbe47b6"
      },
      "source": [
        "!pip3 install --extra-index-url https://google-coral.github.io/py-repo/ tflite_runtime"
      ],
      "execution_count": null,
      "outputs": [
        {
          "output_type": "stream",
          "text": [
            "Looking in indexes: https://pypi.org/simple, https://google-coral.github.io/py-repo/\n",
            "Requirement already satisfied: tflite_runtime in /usr/local/lib/python3.7/dist-packages (2.5.0)\n",
            "Requirement already satisfied: numpy>=1.12.1 in /usr/local/lib/python3.7/dist-packages (from tflite_runtime) (1.19.5)\n"
          ],
          "name": "stdout"
        }
      ]
    },
    {
      "cell_type": "code",
      "metadata": {
        "colab": {
          "base_uri": "https://localhost:8080/"
        },
        "id": "Uon2FlU2XMBe",
        "outputId": "932e4167-e025-4a64-f4fc-165cd734f039"
      },
      "source": [
        "import os\n",
        "import time\n",
        "import numpy as np\n",
        "from matplotlib import pyplot as plt\n",
        "from termcolor import cprint\n",
        "import tflite_runtime.interpreter as tflite\n",
        "\n",
        "from tensorflow import keras\n",
        "from tensorflow.keras.models import Sequential\n",
        "from tensorflow.keras.layers import Dense, Dropout, Flatten, Reshape, GlobalAveragePooling1D, Activation, GlobalAveragePooling2D\n",
        "from tensorflow.keras.layers import Conv2D, MaxPooling2D, Conv1D, MaxPooling1D\n",
        "\n",
        "from google.colab import drive\n",
        "from google.colab import files\n",
        "drive.mount('/content/drive')\n",
        "!ls \"/content/drive/My Drive\"\n",
        "\n",
        "#Test on full network"
      ],
      "execution_count": null,
      "outputs": [
        {
          "output_type": "stream",
          "text": [
            "Drive already mounted at /content/drive; to attempt to forcibly remount, call drive.mount(\"/content/drive\", force_remount=True).\n",
            " Barcelona\t       Europass\t\t\t\t     NN\n",
            "'challenge 2.avi'     'Foglio di lavoro senza nome.gsheet'   ROC.gsheet\n",
            "'Colab Notebooks'     'forces in fluids.gsheet'\t\t     USB\n",
            "'cours physique.zip'   kreisel.gsheet\n",
            " elasticity.gsheet    'Magn hysteresis.gsheet'\n"
          ],
          "name": "stdout"
        }
      ]
    },
    {
      "cell_type": "code",
      "metadata": {
        "colab": {
          "base_uri": "https://localhost:8080/"
        },
        "id": "G-Rtii-wVZc-",
        "outputId": "65f37c2a-a9f4-4d7e-daea-2f30486e57e3"
      },
      "source": [
        "data = np.load(\"/content/drive/My Drive/NN/data/testing_data.npy\").astype(np.float32)\n",
        "\n",
        "model_name = 'model_fc_1l_32'\n",
        "\n",
        "loaded_events = data.shape[0]\n",
        "n_samples = data.shape[1]\n",
        "n_channels = data.shape[2]\n",
        "#data = np.reshape(data, (loaded_events, -1))#reshape for fc network\n",
        "#np.expand_dims(x, axis=-1) #for cnn network\n",
        "\n",
        "\n",
        "# define labels with one hot encoding, (1,0) -> noise, (0,1) -> signal\n",
        "test_label = np.zeros((loaded_events, 2))\n",
        "test_label[:25000, 1] = 1\n",
        "test_label[25000:, 0] = 1\n",
        "\n",
        "\n",
        "tot_n = int(test_label[25000:,0].sum())\n",
        "tot_s = int(test_label[:25000,1].sum())\n",
        "\n",
        "print(data.shape, test_label.shape)"
      ],
      "execution_count": null,
      "outputs": [
        {
          "output_type": "stream",
          "text": [
            "(950000, 256, 1) (950000, 2)\n"
          ],
          "name": "stdout"
        }
      ]
    },
    {
      "cell_type": "code",
      "metadata": {
        "id": "m-fzj7eWro9K"
      },
      "source": [
        ""
      ],
      "execution_count": null,
      "outputs": []
    },
    {
      "cell_type": "code",
      "metadata": {
        "id": "egqemrqcVRlF"
      },
      "source": [
        "model_float = keras.models.load_model(f'/content/drive/My Drive/NN/train_all/{model_name}.h5', compile=False)\n",
        "y_pred = model_float.predict(np.reshape(data, (loaded_events, -1))) #for cnn network: np.expand_dims(data, axis=-1), fcn: np.reshape(data, (loaded_events, -1))"
      ],
      "execution_count": null,
      "outputs": []
    },
    {
      "cell_type": "code",
      "metadata": {
        "colab": {
          "base_uri": "https://localhost:8080/"
        },
        "id": "CYlM378JVPaa",
        "outputId": "59460f3d-064f-45ee-ce2b-ebca8f974d84"
      },
      "source": [
        "\n",
        "\n",
        "#Try to make predictions for quantized model: TPU\n",
        "data_q = np.zeros_like(data)\n",
        "FCN = True\n",
        "\n",
        "#Load model and set delegate\n",
        "\n",
        "path_to_model = f'/content/drive/My Drive/NN/train_all/{model_name}_quantized.tflite'\n",
        "interpreter = tflite.Interpreter(path_to_model)\n",
        "interpreter.allocate_tensors()\n",
        "\n",
        "# Get input tensor.\n",
        "input_details = interpreter.get_input_details()\n",
        "output_details = interpreter.get_output_details()\n",
        "input_shape = input_details[0]['shape']\n",
        "\n",
        "input_index = input_details[0][\"index\"]\n",
        "output_index = output_details[0][\"index\"]\n",
        "print(\"Model loaded, input_shape:\",input_shape)\n",
        "print(\"\\nInput details:\", input_details)\n",
        "print(\"\\nOutput details:\", output_details)\n",
        "\n",
        "\n",
        "# Check if the input type is quantized, then rescale input data to uint8 - see https://www.tensorflow.org/lite/performance/post_training_integer_quant\n",
        "if input_details[0]['dtype'] == np.int8:\n",
        "  input_scale, input_zero_point = input_details[0][\"quantization\"]\n",
        "  data_q = data / input_scale + input_zero_point\n",
        "  print(data_q.shape)\n",
        "\n",
        "if FCN: #infere all events at once for FCN\n",
        "  data_q = np.reshape(data_q, (loaded_events, -1))\n",
        "  data_q = np.array(data_q, dtype = input_details[0][\"dtype\"])\n",
        "  interpreter.resize_tensor_input(0, [loaded_events, n_samples])   #cnn: [1, n_samples, 1], fc: [loaded_events, n_samples]\n",
        "  interpreter.allocate_tensors()\n",
        "  interpreter.set_tensor(input_index, data_q)\n",
        "  predictions = interpreter.tensor(output_index)\n",
        "  interpreter.invoke()\n",
        "  y_quant = input_scale*(predictions() - input_zero_point)\n",
        "  predictions = predictions()\n",
        "\n",
        "else:\n",
        "  data_q = np.expand_dims(data_q, axis=0) #activate for cnn\n",
        "  data_q = np.array(data_q, dtype = input_details[0][\"dtype\"])\n",
        "  \n",
        "  print(data.shape)\n",
        "  print(data_q.shape)\n",
        "  \n",
        "  predictions = np.zeros_like(test_label)\n",
        "  y_quant = np.zeros_like(test_label)\n",
        "\n",
        "  for i in range(loaded_events):     \n",
        "      if i%100000 == 0:\n",
        "        print(f\"Event {i}/{loaded_events}...\")\n",
        "\n",
        "      event_i = data_q[:, i, :, :]  # ---> change this for conv network; add [:, i, :, :]\n",
        "    \n",
        "\n",
        "      interpreter.set_tensor(input_details[0]['index'], event_i)\n",
        "      interpreter.invoke()\n",
        "      pred = interpreter.get_tensor(output_details[0]['index'])\n",
        "      predictions[i,:] = pred\n",
        "      y_quant[i,:] = input_scale*(pred - input_zero_point)\n",
        "\n",
        "print(predictions)\n",
        "print(y_quant)\n",
        "\n",
        "\n",
        "\n",
        "\n",
        "\n",
        "\n",
        "##p.save(f'{plots_dir}/{model_name}_inference_{form}_{chip}_times_log.npy', times_mean)\n",
        "#np.save(f'{plots_dir}/{model_name}_inference_{form}_{chip}_std_log.npy', times_std)\n",
        "\n",
        "cprint(\"Inference test for Convolutional Network done!\", \"green\")"
      ],
      "execution_count": null,
      "outputs": [
        {
          "output_type": "stream",
          "text": [
            "Model loaded, input_shape: [  1 256]\n",
            "\n",
            "Input details: [{'name': 'layer1_input_int8', 'index': 0, 'shape': array([  1, 256], dtype=int32), 'shape_signature': array([ -1, 256], dtype=int32), 'dtype': <class 'numpy.int8'>, 'quantization': (0.0007842584163881838, 0), 'quantization_parameters': {'scales': array([0.00078426], dtype=float32), 'zero_points': array([0], dtype=int32), 'quantized_dimension': 0}, 'sparsity_parameters': {}}]\n",
            "\n",
            "Output details: [{'name': 'Identity_int8', 'index': 7, 'shape': array([1, 2], dtype=int32), 'shape_signature': array([-1,  2], dtype=int32), 'dtype': <class 'numpy.int8'>, 'quantization': (0.00390625, -128), 'quantization_parameters': {'scales': array([0.00390625], dtype=float32), 'zero_points': array([-128], dtype=int32), 'quantized_dimension': 0}, 'sparsity_parameters': {}}]\n",
            "(950000, 256, 1)\n",
            "[[-128  127]\n",
            " [-128  127]\n",
            " [-128  127]\n",
            " ...\n",
            " [ 127 -128]\n",
            " [ 127 -128]\n",
            " [ 127 -128]]\n",
            "[[-0.10038508  0.09960082]\n",
            " [-0.10038508  0.09960082]\n",
            " [-0.10038508  0.09960082]\n",
            " ...\n",
            " [ 0.09960082 -0.10038508]\n",
            " [ 0.09960082 -0.10038508]\n",
            " [ 0.09960082 -0.10038508]]\n",
            "\u001b[32mInference test for Convolutional Network done!\u001b[0m\n"
          ],
          "name": "stdout"
        }
      ]
    },
    {
      "cell_type": "code",
      "metadata": {
        "colab": {
          "base_uri": "https://localhost:8080/"
        },
        "id": "tw3jUwvcYkGU",
        "outputId": "c48dc957-ed64-4b48-c28b-70f5118d1ac6"
      },
      "source": [
        "print(predictions[30000:30200,0])\n",
        "print(y_quant[0,1])"
      ],
      "execution_count": null,
      "outputs": [
        {
          "output_type": "stream",
          "text": [
            "[127 127 127 127 127 127 127 127 127 127 127 109 127 124 127 127 127 127\n",
            " 126 126 127 127 127 127 125 127 127 127 126 127 127 127 127 127 127 127\n",
            " 127 127 127 127 127 127 127 127 127 127  92 127 127 127  98 127 127 127\n",
            " 127 127 127 127 127 127 127 127 127 127 127 127 127 127 127 127 127 127\n",
            " 127 127 127 127 127 127 127 127 127 127 126 127 120 127 127 127 127 127\n",
            " 127 127 127 127 127 127 126 127 127 127 127 127 127 127 127 127 127 127\n",
            " 127 127 127 127 127 127 127 127 127 127 127 126 127 127 126 127 123 119\n",
            " 127 127 127 127 127 127 127 115 127 127 127  64 127 127 127 127 127 127\n",
            " 127 127 127 127 127 127 127 127 126 125 127 127 127 127 127 127 127 127\n",
            " 121 127 127 121 127 127 127 127 127 127 127 127 127 127 127 127 127 126\n",
            " 127 127 127 127 127 126 127 126 127 127 115 127 127 127 127 127 127 127\n",
            " 127 127]\n",
            "0.09960081888129935\n"
          ],
          "name": "stdout"
        }
      ]
    },
    {
      "cell_type": "code",
      "metadata": {
        "colab": {
          "base_uri": "https://localhost:8080/",
          "height": 513
        },
        "id": "4bpGB5C9YXol",
        "outputId": "e5f7d2a6-d4c3-4da1-a401-3d6fae17f697"
      },
      "source": [
        "plt.hist(predictions, 200)\n",
        "#plt.xlim(-128, -127.9)\n",
        "plt.show()\n",
        "\n",
        "plt.hist(y_pred, 500)\n",
        "#plt.xlim(0, 0.015)\n",
        "plt.show()"
      ],
      "execution_count": null,
      "outputs": [
        {
          "output_type": "display_data",
          "data": {
            "image/png": "[encoded data removed]",
            "text/plain": [
              "<Figure size 432x288 with 1 Axes>"
            ]
          },
          "metadata": {
            "tags": [],
            "needs_background": "light"
          }
        },
        {
          "output_type": "display_data",
          "data": {
            "image/png": "[encoded data removed]",
            "text/plain": [
              "<Figure size 432x288 with 1 Axes>"
            ]
          },
          "metadata": {
            "tags": [],
            "needs_background": "light"
          }
        }
      ]
    },
    {
      "cell_type": "code",
      "metadata": {
        "colab": {
          "base_uri": "https://localhost:8080/"
        },
        "id": "YlON2tPOgNQB",
        "outputId": "42bda860-8294-44c2-bf8c-0bfa064f5fb6"
      },
      "source": [
        "# Compare prediction results with ground truth labels to calculate accuracy.\n",
        "#Accuracy float - model\n",
        "accurate_count_float = 0\n",
        "for index in range(loaded_events):\n",
        "  digit = np.argmax(y_pred[index])\n",
        "  if digit == test_label[index,1]:\n",
        "    accurate_count_float += 1\n",
        " \n",
        "accuracy_float = accurate_count_float * 1.0 / loaded_events\n",
        "\n",
        "print(accuracy_float)"
      ],
      "execution_count": null,
      "outputs": [
        {
          "output_type": "stream",
          "text": [
            "0.9973221052631579\n"
          ],
          "name": "stdout"
        }
      ]
    },
    {
      "cell_type": "code",
      "metadata": {
        "colab": {
          "base_uri": "https://localhost:8080/"
        },
        "id": "EdO5_el6XaAt",
        "outputId": "c815c64e-a4b3-4ace-e908-1fd7a09e2e2a"
      },
      "source": [
        "# Compare prediction results with ground truth labels to calculate accuracy.\n",
        "accurate_count = 0\n",
        "for index in range(loaded_events):\n",
        "  digit = np.argmax(predictions[index,:])\n",
        "  \n",
        "  if digit == test_label[index,1]:\n",
        "    accurate_count += 1\n",
        "  #else:\n",
        "   # print(predictions()[index,:], y_quant[index,:])\n",
        "accuracy = accurate_count * 1.0 / loaded_events\n",
        "\n",
        "print(accuracy)"
      ],
      "execution_count": null,
      "outputs": [
        {
          "output_type": "stream",
          "text": [
            "0.9981926315789473\n"
          ],
          "name": "stdout"
        }
      ]
    },
    {
      "cell_type": "code",
      "metadata": {
        "id": "XgD7JpFREsfD"
      },
      "source": [
        "yy = np.log10(np.linspace(10 ** 0.000001, 10 ** 0.999999, 10000))\n",
        "#yy_q = yy / input_scale + input_zero_point\n",
        "yy_q = np.linspace(-128, 127, 10000)\n",
        "\n",
        "n = np.zeros_like(yy)\n",
        "s = np.zeros_like(yy)\n",
        "\n",
        "n_q = np.zeros_like(yy_q)\n",
        "s_q = np.zeros_like(yy_q)"
      ],
      "execution_count": null,
      "outputs": []
    },
    {
      "cell_type": "code",
      "metadata": {
        "id": "SmsMQE32qxWp"
      },
      "source": [
        "\n",
        "for iT, threshold in enumerate(yy):\n",
        "    eff_signal = np.sum((y_pred[:25000, 1] > threshold) == True) / tot_s\n",
        "    s[iT] = eff_signal\n",
        "    eff_noise = np.sum((y_pred[25000:, 1] > threshold) == False) / tot_n\n",
        "    if (eff_noise < 1):\n",
        "        reduction_factor = np.log10(1 / (1 - eff_noise))\n",
        "    else:\n",
        "        reduction_factor = np.log10(tot_n)\n",
        "    n[iT] = 10 ** reduction_factor\n"
      ],
      "execution_count": null,
      "outputs": []
    },
    {
      "cell_type": "code",
      "metadata": {
        "colab": {
          "base_uri": "https://localhost:8080/"
        },
        "id": "Wjmap_FsExoJ",
        "outputId": "a768cafc-f2d9-4359-abcc-b87e20aecfbf"
      },
      "source": [
        "#Find neutrino rejection factor at 10^5:\n",
        "iter = 0\n",
        "\n",
        "while n[iter] < 10**5:\n",
        "  iter = iter + 1\n",
        "\n",
        "print(f'Noise rejection factor at 10⁵ (10e({np.log10(n[iter])})) = {s[iter]*100}%')"
      ],
      "execution_count": null,
      "outputs": [
        {
          "output_type": "stream",
          "text": [
            "Noise rejection factor at 10⁵ (10e(5.011899223301952)) = 95.08%\n"
          ],
          "name": "stdout"
        }
      ]
    },
    {
      "cell_type": "code",
      "metadata": {
        "colab": {
          "base_uri": "https://localhost:8080/"
        },
        "id": "p8xMrzGj9MgG",
        "outputId": "3e18036f-b088-49b2-9af2-9e564233f481"
      },
      "source": [
        "print(n)"
      ],
      "execution_count": null,
      "outputs": [
        {
          "output_type": "stream",
          "text": [
            "[1.00000000e+00 1.59552081e+00 2.16700714e+00 ... 4.62500000e+05\n",
            " 9.25000000e+05 9.25000000e+05]\n"
          ],
          "name": "stdout"
        }
      ]
    },
    {
      "cell_type": "code",
      "metadata": {
        "id": "qtnBWSlElhM5"
      },
      "source": [
        "\n",
        "for iT, threshold in enumerate(yy_q):\n",
        "    eff_signal = np.sum((predictions[:25000, 1] > threshold) == True) / tot_s\n",
        "    s_q[iT] = eff_signal\n",
        "    eff_noise = np.sum((predictions[25000:, 1] > threshold) == False) / tot_n\n",
        "    if (eff_noise < 1):\n",
        "        reduction_factor = np.log10(1 / (1 - eff_noise))\n",
        "    else:\n",
        "        reduction_factor = np.log10(tot_n)\n",
        "    n_q[iT] = 10 ** reduction_factor\n"
      ],
      "execution_count": null,
      "outputs": []
    },
    {
      "cell_type": "code",
      "metadata": {
        "id": "51bcwVxisAJo",
        "colab": {
          "base_uri": "https://localhost:8080/",
          "height": 441
        },
        "outputId": "16af414c-7a83-4b32-c536-6158573e8409"
      },
      "source": [
        "xmin = 0.95\n",
        "fig, ax = plt.subplots(1, 1, figsize=(6, 6))\n",
        "ax.plot(s, n, '.', label='cnn: 800k params')\n",
        "ax.plot(s_q, n_q, '.',  label='cnn: int8')\n",
        "ax.set_xlabel(\"signal efficiency\")\n",
        "ax.set_ylabel(\"noise reduction factor\")\n",
        "ax.set_title('Signal efficiency vs. noise reduction factor')\n",
        "plt.xlim(xmin, 1.0005)\n",
        "#plt.ylim(10**(-0.1), 10**5.5)\n",
        "ax.semilogy(True)\n",
        "ax.grid(True)\n",
        "ax.legend()\n",
        "fig.tight_layout()\n",
        "fig.savefig(f\"{model_name}_int_vs_flops_{xmin}.png\", bbox_inches=\"tight\", dpi=150)\n",
        "files.download(f\"{model_name}_int_vs_flops_{xmin}.png\")\n",
        "plt.show()"
      ],
      "execution_count": null,
      "outputs": [
        {
          "output_type": "display_data",
          "data": {
            "application/javascript": [
              "\n",
              "    async function download(id, filename, size) {\n",
              "      if (!google.colab.kernel.accessAllowed) {\n",
              "        return;\n",
              "      }\n",
              "      const div = document.createElement('div');\n",
              "      const label = document.createElement('label');\n",
              "      label.textContent = `Downloading \"${filename}\": `;\n",
              "      div.appendChild(label);\n",
              "      const progress = document.createElement('progress');\n",
              "      progress.max = size;\n",
              "      div.appendChild(progress);\n",
              "      document.body.appendChild(div);\n",
              "\n",
              "      const buffers = [];\n",
              "      let downloaded = 0;\n",
              "\n",
              "      const channel = await google.colab.kernel.comms.open(id);\n",
              "      // Send a message to notify the kernel that we're ready.\n",
              "      channel.send({})\n",
              "\n",
              "      for await (const message of channel.messages) {\n",
              "        // Send a message to notify the kernel that we're ready.\n",
              "        channel.send({})\n",
              "        if (message.buffers) {\n",
              "          for (const buffer of message.buffers) {\n",
              "            buffers.push(buffer);\n",
              "            downloaded += buffer.byteLength;\n",
              "            progress.value = downloaded;\n",
              "          }\n",
              "        }\n",
              "      }\n",
              "      const blob = new Blob(buffers, {type: 'application/binary'});\n",
              "      const a = document.createElement('a');\n",
              "      a.href = window.URL.createObjectURL(blob);\n",
              "      a.download = filename;\n",
              "      div.appendChild(a);\n",
              "      a.click();\n",
              "      div.remove();\n",
              "    }\n",
              "  "
            ],
            "text/plain": [
              "<IPython.core.display.Javascript object>"
            ]
          },
          "metadata": {
            "tags": []
          }
        },
        {
          "output_type": "display_data",
          "data": {
            "application/javascript": [
              "download(\"download_1d63c6c5-304d-4f76-87ba-a6c9006ff86f\", \"model_fc_1l_32_int_vs_flops_0.95.png\", 55953)"
            ],
            "text/plain": [
              "<IPython.core.display.Javascript object>"
            ]
          },
          "metadata": {
            "tags": []
          }
        },
        {
          "output_type": "display_data",
          "data": {
            "image/png": "[encoded data removed]",
            "text/plain": [
              "<Figure size 432x432 with 1 Axes>"
            ]
          },
          "metadata": {
            "tags": [],
            "needs_background": "light"
          }
        }
      ]
    }
  ]
}