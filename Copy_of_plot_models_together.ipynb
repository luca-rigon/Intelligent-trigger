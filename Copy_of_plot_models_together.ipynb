{
  "nbformat": 4,
  "nbformat_minor": 0,
  "metadata": {
    "colab": {
      "name": "Copy of plot_models_together.ipynb",
      "provenance": [],
      "collapsed_sections": [],
      "authorship_tag": "ABX9TyN2BnsZ81MHK0ZWpsqnul7m"
    },
    "kernelspec": {
      "name": "python3",
      "display_name": "Python 3"
    },
    "language_info": {
      "name": "python"
    }
  },
  "cells": [
    {
      "cell_type": "code",
      "metadata": {
        "id": "6ImktnHVdQFC"
      },
      "source": [
        "import os\n",
        "import matplotlib.pyplot as plt\n",
        "import numpy as np\n",
        "\n",
        "from tensorflow import keras\n",
        "from tensorflow.keras.models import Sequential\n",
        "from tensorflow.keras.layers import Dense, Dropout, Flatten, Reshape, GlobalAveragePooling1D, Activation, GlobalAveragePooling2D\n",
        "from tensorflow.keras.layers import Conv2D, MaxPooling2D, Conv1D, MaxPooling1D\n",
        "\n",
        "from sklearn.model_selection import train_test_split\n",
        "from sklearn.metrics import roc_curve"
      ],
      "execution_count": null,
      "outputs": []
    },
    {
      "cell_type": "code",
      "metadata": {
        "colab": {
          "base_uri": "https://localhost:8080/"
        },
        "id": "Ajwo6sUXgf-7",
        "outputId": "fb5e02bb-50e3-4537-c33f-bd4fc724369b"
      },
      "source": [
        "from google.colab import drive\n",
        "from google.colab import files\n",
        "drive.mount('/content/drive')\n",
        "!ls \"/content/drive/My Drive\""
      ],
      "execution_count": null,
      "outputs": [
        {
          "output_type": "stream",
          "text": [
            "Drive already mounted at /content/drive; to attempt to forcibly remount, call drive.mount(\"/content/drive\", force_remount=True).\n",
            " Barcelona\t       Europass\t\t\t\t     NN\n",
            "'challenge 2.avi'     'Foglio di lavoro senza nome.gsheet'   ROC.gsheet\n",
            "'Colab Notebooks'     'forces in fluids.gsheet'\t\t     USB\n",
            "'cours physique.zip'   kreisel.gsheet\n",
            " elasticity.gsheet    'Magn hysteresis.gsheet'\n"
          ],
          "name": "stdout"
        }
      ]
    },
    {
      "cell_type": "code",
      "metadata": {
        "colab": {
          "base_uri": "https://localhost:8080/"
        },
        "id": "G-Rtii-wVZc-",
        "outputId": "672876d3-0e2f-4939-964a-6bb59e3b7f3f"
      },
      "source": [
        "data = np.load(\"/content/drive/My Drive/NN/data/testing_data.npy\").astype(np.float32)\n",
        "\n",
        "loaded_events = data.shape[0]\n",
        "n_samples = data.shape[1]\n",
        "n_channels = data.shape[2]\n",
        "\n",
        "#X_test = np.reshape(data, (loaded_events, -1))#reshape for fc network\n",
        "X_test = np.expand_dims(data, axis=-1) #for cnn network\n",
        "\n",
        "\n",
        "# define labels with one hot encoding, (1,0) -> noise, (0,1) -> signal\n",
        "test_label = np.zeros((loaded_events, 2))\n",
        "test_label[:25000, 1] = 1\n",
        "test_label[25000:, 0] = 1\n",
        "\n",
        "\n",
        "tot_n = int(test_label[25000:,0].sum())\n",
        "tot_s = int(test_label[:25000,1].sum())\n",
        "\n",
        "print(data.shape, test_label.shape)"
      ],
      "execution_count": null,
      "outputs": [
        {
          "output_type": "stream",
          "text": [
            "(950000, 256, 1) (950000, 2)\n"
          ],
          "name": "stdout"
        }
      ]
    },
    {
      "cell_type": "code",
      "metadata": {
        "id": "OqtIez1HdQFg"
      },
      "source": [
        "# define labels with one hot encoding, (1,0) -> noise, (0,1) -> signal\n",
        "y = np.zeros((200000, 2))\n",
        "y[:100000, 0] = 1\n",
        "y[100000:, 1] = 1"
      ],
      "execution_count": null,
      "outputs": []
    },
    {
      "cell_type": "code",
      "metadata": {
        "id": "ea7aTIecdQF6"
      },
      "source": [
        "#########################\n",
        "###second part of code###\n",
        "#########################\n",
        "\n",
        "#model prediction + efficiency curve\n",
        "\n",
        "yy = np.log10(np.linspace(10 ** 0.00001, 10 ** 0.99999998, 10000))\n",
        "\n",
        "models = ['model_conv1D_2l_10_5', 'model_conv1D_2l_10_10', 'model_conv1D_2l_10_15', 'model_conv1D_2l_10_20']#, 'model_fc_1l_64', 'model_fc_4l_64', 'model_fc_1l_128', 'model_fc_4l_128', 'model_fc_1l_256', 'model_fc_4l_200', 'model_fc_4l_256', 'model_fc_4l_350']\n",
        "labs = ['5', '10', '15', '20']\n",
        "\n",
        "n_vec = np.zeros((10000, len(models)))\n",
        "s_vec = np.zeros((10000, len(models)))"
      ],
      "execution_count": null,
      "outputs": []
    },
    {
      "cell_type": "code",
      "metadata": {
        "id": "298U7WgMMQ2B",
        "colab": {
          "base_uri": "https://localhost:8080/",
          "height": 87
        },
        "outputId": "e4c15685-c821-4804-f281-c33e05e586ee"
      },
      "source": [
        "\"\"\"model_fc = keras.models.load_model(f'/content/drive/My Drive/NN/test_train_split/model_fc_2l_64.h5', compile=False)\n",
        "y_pred_fc = model_fc.predict(np.reshape(X_test, (X_test.shape[0], -1))) #X_test, or np.reshape(X_test, (X_test.shape[0], -1))\n",
        "\n",
        "s_should_fc = []\n",
        "n_should_fc  = []\n",
        "\n",
        "sfc = np.zeros_like(yy)\n",
        "nfc = np.zeros_like(yy)\n",
        "\n",
        "for i in range(len(y_pred_fc[:,0])):\n",
        "  if y_testfc[i,1] == 1:\n",
        "    s_should_fc.append(y_pred_fc[i,1])\n",
        "\n",
        "  else:\n",
        "    n_should_fc.append(y_pred_fc[i,1])\n",
        "\n",
        "\n",
        "for iT, threshold in enumerate(yy):\n",
        "  eff_signal = np.sum((s_should_fc > threshold) == True) / tot_s\n",
        "  sfc[iT] = eff_signal\n",
        "  eff_noise = np.sum((n_should_fc > threshold) == False) / tot_n\n",
        "    \n",
        "  if eff_noise < 1:\n",
        "    reduction_factor = np.log10(1 / (1 - eff_noise))\n",
        "  else:\n",
        "      reduction_factor = np.log10(tot_n)\n",
        "  nfc[iT] = 10 ** reduction_factor\"\"\"\n"
      ],
      "execution_count": null,
      "outputs": [
        {
          "output_type": "execute_result",
          "data": {
            "application/vnd.google.colaboratory.intrinsic+json": {
              "type": "string"
            },
            "text/plain": [
              "\"model_fc = keras.models.load_model(f'/content/drive/My Drive/NN/test_train_split/model_fc_2l_64.h5', compile=False)\\ny_pred_fc = model_fc.predict(np.reshape(X_test, (X_test.shape[0], -1))) #X_test, or np.reshape(X_test, (X_test.shape[0], -1))\\n\\ns_should_fc = []\\nn_should_fc  = []\\n\\nsfc = np.zeros_like(yy)\\nnfc = np.zeros_like(yy)\\n\\nfor i in range(len(y_pred_fc[:,0])):\\n  if y_testfc[i,1] == 1:\\n    s_should_fc.append(y_pred_fc[i,1])\\n\\n  else:\\n    n_should_fc.append(y_pred_fc[i,1])\\n\\n\\nfor iT, threshold in enumerate(yy):\\n  eff_signal = np.sum((s_should_fc > threshold) == True) / tot_s\\n  sfc[iT] = eff_signal\\n  eff_noise = np.sum((n_should_fc > threshold) == False) / tot_n\\n    \\n  if eff_noise < 1:\\n    reduction_factor = np.log10(1 / (1 - eff_noise))\\n  else:\\n      reduction_factor = np.log10(tot_n)\\n  nfc[iT] = 10 ** reduction_factor\""
            ]
          },
          "metadata": {
            "tags": []
          },
          "execution_count": 13
        }
      ]
    },
    {
      "cell_type": "code",
      "metadata": {
        "colab": {
          "base_uri": "https://localhost:8080/"
        },
        "id": "oq4ptF-Gra8y",
        "outputId": "a1f8a196-a42a-4c03-b116-6b6faafb722e"
      },
      "source": [
        "for k in range(len(n_vec[0,:])):\n",
        "  sss = np.zeros_like(yy)\n",
        "  nnn = np.zeros_like(yy)\n",
        "  var = str((k+1)*5)\n",
        "\n",
        "  model_name = models[k]\n",
        "  print(model_name)\n",
        "  model = keras.models.load_model(f'/content/drive/My Drive/NN/train_all/'+model_name+'.h5', compile=False)\n",
        "  y_pred = model.predict(X_test) #X_test, or np.reshape(X_test, (X_test.shape[0], -1))\n",
        "  print(y_pred)\n",
        "\n",
        "  for iT, threshold in enumerate(yy):\n",
        "      eff_signal = np.sum((y_pred[:25000, 1] > threshold) == True) / tot_s\n",
        "      sss[iT] = eff_signal\n",
        "      eff_noise = np.sum((y_pred[25000:, 1] > threshold) == False) / tot_n\n",
        "      if (eff_noise < 1):\n",
        "          reduction_factor = np.log10(1 / (1 - eff_noise))\n",
        "      else:\n",
        "          reduction_factor = np.log10(tot_n)\n",
        "      nnn[iT] = 10 ** reduction_factor\n",
        "\n",
        "\n",
        "  s_vec[:,k] = sss\n",
        "  n_vec[:,k] = nnn\n",
        "\n",
        "print(s_vec[500,2], s_vec[500,3])"
      ],
      "execution_count": null,
      "outputs": [
        {
          "output_type": "stream",
          "text": [
            "model_conv1D_2l_10_5\n",
            "[[0.0000000e+00 1.0000000e+00]\n",
            " [0.0000000e+00 1.0000000e+00]\n",
            " [0.0000000e+00 1.0000000e+00]\n",
            " ...\n",
            " [9.9999988e-01 1.2591747e-07]\n",
            " [9.9999952e-01 4.7418382e-07]\n",
            " [9.9999750e-01 2.4652904e-06]]\n",
            "model_conv1D_2l_10_10\n",
            "[[0.0000000e+00 1.0000000e+00]\n",
            " [0.0000000e+00 1.0000000e+00]\n",
            " [0.0000000e+00 1.0000000e+00]\n",
            " ...\n",
            " [9.9999976e-01 2.0340651e-07]\n",
            " [9.9999905e-01 1.0017762e-06]\n",
            " [9.9999630e-01 3.7002346e-06]]\n",
            "model_conv1D_2l_10_15\n",
            "[[0.0000000e+00 1.0000000e+00]\n",
            " [0.0000000e+00 1.0000000e+00]\n",
            " [0.0000000e+00 1.0000000e+00]\n",
            " ...\n",
            " [9.9999976e-01 2.4905043e-07]\n",
            " [9.9999762e-01 2.3664736e-06]\n",
            " [9.9999511e-01 4.9159976e-06]]\n",
            "model_conv1D_2l_10_20\n",
            "[[0.0000000e+00 1.0000000e+00]\n",
            " [0.0000000e+00 1.0000000e+00]\n",
            " [0.0000000e+00 1.0000000e+00]\n",
            " ...\n",
            " [9.9999559e-01 4.4091116e-06]\n",
            " [9.9999619e-01 3.8255321e-06]\n",
            " [9.9999154e-01 8.4406429e-06]]\n",
            "0.99708 0.99648\n"
          ],
          "name": "stdout"
        }
      ]
    },
    {
      "cell_type": "code",
      "metadata": {
        "id": "4F_HS70uipqo",
        "colab": {
          "base_uri": "https://localhost:8080/"
        },
        "outputId": "8c0f186e-b17e-4dab-ae4d-b79d27c0dc20"
      },
      "source": [
        "print(n_vec[0])\n",
        "print(s_vec.shape[0])\n"
      ],
      "execution_count": null,
      "outputs": [
        {
          "output_type": "stream",
          "text": [
            "[2.63344446 3.60477623 2.58676137 2.51370991]\n",
            "10000\n"
          ],
          "name": "stdout"
        }
      ]
    },
    {
      "cell_type": "code",
      "metadata": {
        "id": "0PHxcurmlEXd",
        "colab": {
          "base_uri": "https://localhost:8080/"
        },
        "outputId": "413eb7d8-f524-4478-b638-a3e723d6854f"
      },
      "source": [
        "#calculate signals at noise>10**5\n",
        "s_at_noise = []\n",
        "\n",
        "for k in range(len(n_vec[0,:])):\n",
        "  o = 0\n",
        "  n = n_vec[:,k]\n",
        "  s = s_vec[:,k]\n",
        "  model_name = models[k]\n",
        "\n",
        "\n",
        "  \n",
        "  while n[o] < 10**4:\n",
        "    o+=1\n",
        "  \n",
        "  if s[o] == 0:\n",
        "    while s[o] == 0:\n",
        "      o-=1\n",
        "  \n",
        "  print(f'Noise rejection factor for {model_name} at 10⁵ (10e({np.log10(n[o])})) = {s[o]*100}%')\n",
        "  print(s[o])\n",
        "\n",
        "  s_at_noise.append(s[o])\n",
        "    \n",
        "#  for i in range(len(n)):\n",
        " #   if n[i] == n[o]:\n",
        "  #    s_at_noise.append(s[i])\n",
        "      \n",
        "\n",
        "print('Ave: ', np.mean(s_at_noise))\n",
        "print('std: ', np.std(s_at_noise))"
      ],
      "execution_count": null,
      "outputs": [
        {
          "output_type": "stream",
          "text": [
            "Noise rejection factor for model_conv1D_2l_10_5 at 10⁵ (10e(4.0023539053935675)) = 99.10799999999999%\n",
            "0.99108\n",
            "Noise rejection factor for model_conv1D_2l_10_10 at 10⁵ (10e(4.0023539053935675)) = 99.47200000000001%\n",
            "0.99472\n",
            "Noise rejection factor for model_conv1D_2l_10_15 at 10⁵ (10e(4.0023539053935675)) = 99.388%\n",
            "0.99388\n",
            "Noise rejection factor for model_conv1D_2l_10_20 at 10⁵ (10e(4.0023539053935675)) = 99.336%\n",
            "0.99336\n",
            "Ave:  0.99326\n",
            "std:  0.0013489254983134074\n"
          ],
          "name": "stdout"
        }
      ]
    },
    {
      "cell_type": "code",
      "metadata": {
        "id": "889KPWfcibFc",
        "colab": {
          "base_uri": "https://localhost:8080/",
          "height": 441
        },
        "outputId": "e2e5ad7f-8e3a-4be2-eb48-e1be439051fc"
      },
      "source": [
        "fig, ax = plt.subplots(1, 1, figsize=(6, 6))\n",
        "#ax.plot(sfc, nfc,'.', label='FCN')\n",
        "for i in range(s_vec.shape[1]):\n",
        "  ax.plot(s_vec[:,i], n_vec[:,i],'.', label='cnn, kernel_size = ' + labs[i])\n",
        "plt.xlim(0.95, 1.0005)\n",
        "#plt.ylim(10**(-0.1), 10**5)\n",
        "ax.set_xlabel(\"Signal efficiency\")\n",
        "ax.set_ylabel(\"Noise reduction factor\")\n",
        "ax.semilogy(True)\n",
        "ax.grid(True)\n",
        "ax.legend()\n",
        "ax.set_title(\"Noise rejection vs. Neutrino signal efficiency\")\n",
        "fig.tight_layout()\n",
        "fig.savefig(\"eff_cnn_2l_10_kernel.png\", bbox_inches=\"tight\", dpi=125)\n",
        "files.download(\"eff_cnn_2l_10_kernel.png\")\n",
        "plt.show()"
      ],
      "execution_count": null,
      "outputs": [
        {
          "output_type": "display_data",
          "data": {
            "application/javascript": [
              "\n",
              "    async function download(id, filename, size) {\n",
              "      if (!google.colab.kernel.accessAllowed) {\n",
              "        return;\n",
              "      }\n",
              "      const div = document.createElement('div');\n",
              "      const label = document.createElement('label');\n",
              "      label.textContent = `Downloading \"${filename}\": `;\n",
              "      div.appendChild(label);\n",
              "      const progress = document.createElement('progress');\n",
              "      progress.max = size;\n",
              "      div.appendChild(progress);\n",
              "      document.body.appendChild(div);\n",
              "\n",
              "      const buffers = [];\n",
              "      let downloaded = 0;\n",
              "\n",
              "      const channel = await google.colab.kernel.comms.open(id);\n",
              "      // Send a message to notify the kernel that we're ready.\n",
              "      channel.send({})\n",
              "\n",
              "      for await (const message of channel.messages) {\n",
              "        // Send a message to notify the kernel that we're ready.\n",
              "        channel.send({})\n",
              "        if (message.buffers) {\n",
              "          for (const buffer of message.buffers) {\n",
              "            buffers.push(buffer);\n",
              "            downloaded += buffer.byteLength;\n",
              "            progress.value = downloaded;\n",
              "          }\n",
              "        }\n",
              "      }\n",
              "      const blob = new Blob(buffers, {type: 'application/binary'});\n",
              "      const a = document.createElement('a');\n",
              "      a.href = window.URL.createObjectURL(blob);\n",
              "      a.download = filename;\n",
              "      div.appendChild(a);\n",
              "      a.click();\n",
              "      div.remove();\n",
              "    }\n",
              "  "
            ],
            "text/plain": [
              "<IPython.core.display.Javascript object>"
            ]
          },
          "metadata": {
            "tags": []
          }
        },
        {
          "output_type": "display_data",
          "data": {
            "application/javascript": [
              "download(\"download_7a3b25ef-cb10-4c93-8a95-e335d776926b\", \"eff_cnn_2l_10_kernel.png\", 53999)"
            ],
            "text/plain": [
              "<IPython.core.display.Javascript object>"
            ]
          },
          "metadata": {
            "tags": []
          }
        },
        {
          "output_type": "display_data",
          "data": {
            "image/png": "[encoded data removed]",
            "text/plain": [
              "<Figure size 432x432 with 1 Axes>"
            ]
          },
          "metadata": {
            "tags": [],
            "needs_background": "light"
          }
        }
      ]
    }
  ]
}