{
  "nbformat": 4,
  "nbformat_minor": 0,
  "metadata": {
    "colab": {
      "name": "experiments.ipynb",
      "provenance": [],
      "collapsed_sections": []
    },
    "kernelspec": {
      "name": "python388jvsc74a57bd08973115da75745db42789df135534daed99c5f70f944bade3ce5259e320257cc",
      "display_name": "Python 3.8.8 64-bit ('tf': conda)"
    },
    "language_info": {
      "codemirror_mode": {
        "name": "ipython",
        "version": 3
      },
      "file_extension": ".py",
      "mimetype": "text/x-python",
      "name": "python",
      "nbconvert_exporter": "python",
      "pygments_lexer": "ipython3",
      "version": "3.8.8"
    }
  },
  "cells": [
    {
      "cell_type": "code",
      "metadata": {
        "id": "6ImktnHVdQFC"
      },
      "source": [
        "import os\n",
        "import matplotlib.pyplot as plt\n",
        "import numpy as np\n",
        "\n",
        "from tensorflow import keras\n",
        "from tensorflow.keras.models import Sequential\n",
        "from tensorflow.keras.layers import Dense, Dropout, Flatten, Reshape, GlobalAveragePooling1D, Activation, GlobalAveragePooling2D\n",
        "from tensorflow.keras.layers import Conv2D, MaxPooling2D, Conv1D, MaxPooling1D\n",
        "\n",
        "from sklearn.model_selection import train_test_split\n",
        "from sklearn.metrics import roc_curve"
      ],
      "execution_count": 2,
      "outputs": []
    },
    {
      "cell_type": "code",
      "execution_count": 2,
      "metadata": {},
      "outputs": [
        {
          "output_type": "stream",
          "name": "stdout",
          "text": [
            "[7.6900e+02 1.9230e+03 5.0000e+00 7.0000e+00 1.2000e+01 1.9000e+01\n 3.1000e+01 1.8978e+04 7.5950e+03 3.0000e+04 4.9000e+01 3.0800e+02\n 1.2160e+03 1.9400e+02 4.8050e+03 7.7000e+01 3.0390e+03 4.8600e+02\n 1.2006e+04 1.2300e+02]\n"
          ]
        }
      ],
      "source": [
        "import numpy as np\n",
        "model_inference = np.load(f\"/home/luca/Documents/Project/model_fc_2l_64_inference_test.npy\").astype(np.float32)\n",
        "print(model_inference)"
      ]
    },
    {
      "cell_type": "code",
      "execution_count": 24,
      "metadata": {},
      "outputs": [
        {
          "output_type": "stream",
          "name": "stdout",
          "text": [
            "85691.88092051455 2.894886475866961e-07\n"
          ]
        }
      ],
      "source": [
        "batch_sizes = np.array([769, 1923, 5, 7, 12, 19, 31, 18978, 7595, 30000, 49, 308, 1216, 194, 4805, 77, 3039, 486, 12006, 123])\n",
        "\n",
        "times_mean = np.array([0.007677785281477304, 0.019156209353742928, 0.00013287314053239493, 0.00013210855681320717, 0.00019671177041941676, 0.0002615862879259833, 0.00032557290175865434, 0.18705333982195174, 0.07587956560069117, 0.2958046793937683, 0.00045626738975787983, 0.003097353310420595, 0.011836972729913119, 0.0019265536604256466, 0.04769077794305209, 0.0007281878898883688, 0.030244259998716157, 0.004822509042147933, 0.11843038641888162, 0.001165677761209422])\n",
        "\n",
        "times_std = np.array([7.759736315090305e-05, 0.00010405759570552093, 8.458873983110743e-06, 4.9985012207374305e-06, 6.894388189962724e-06, 1.765864052775149e-05, 4.999380080479019e-06, 0.0005859777339317113, 0.00012086133766308785, 0.001226229161803122, 2.102338359146173e-05, 3.502907890120854e-05, 6.515365527023383e-05, 3.287408488787408e-05, 0.00010073614585713229, 2.113949114485798e-05, 7.115829964020621e-05, 4.977723371075641e-05, 0.000860920644463081, 2.6712669738069397e-05])\n",
        "\n",
        "time_1_inf = np.zeros_like(times_mean)\n",
        "std = np.zeros_like(times_mean)\n",
        "\n",
        "for i, b in enumerate(batch_sizes):\n",
        "    time_1_inf[i] = times_mean[i]/b\n",
        "    std[i] = times_std[i]/b\n",
        "\n",
        "print(1/time_1_inf.mean(), std.mean())\n",
        "\n"
      ]
    },
    {
      "cell_type": "code",
      "execution_count": 26,
      "metadata": {},
      "outputs": [
        {
          "output_type": "execute_result",
          "data": {
            "text/plain": [
              "(0.0, 0.0008)"
            ]
          },
          "metadata": {},
          "execution_count": 26
        },
        {
          "output_type": "display_data",
          "data": {
            "text/plain": "<Figure size 432x288 with 1 Axes>",
            "image/svg+xml": "<?xml version=\"1.0\" encoding=\"utf-8\" standalone=\"no\"?>\n<!DOCTYPE svg PUBLIC \"-//W3C//DTD SVG 1.1//EN\"\n  \"http://www.w3.org/Graphics/SVG/1.1/DTD/svg11.dtd\">\n<!-- Created with matplotlib (https://matplotlib.org/) -->\n<svg height=\"277.314375pt\" version=\"1.1\" viewBox=\"0 0 411.23125 277.314375\" width=\"411.23125pt\" xmlns=\"http://www.w3.org/2000/svg\" xmlns:xlink=\"http://www.w3.org/1999/xlink\">\n <metadata>\n  <rdf:RDF xmlns:cc=\"http://creativecommons.org/ns#\" xmlns:dc=\"http://purl.org/dc/elements/1.1/\" xmlns:rdf=\"http://www.w3.org/1999/02/22-rdf-syntax-ns#\">\n   <cc:Work>\n    <dc:type rdf:resource=\"http://purl.org/dc/dcmitype/StillImage\"/>\n    <dc:date>2021-04-30T11:51:23.587572</dc:date>\n    <dc:format>image/svg+xml</dc:format>\n    <dc:creator>\n     <cc:Agent>\n      <dc:title>Matplotlib v3.3.4, https://matplotlib.org/</dc:title>\n     </cc:Agent>\n    </dc:creator>\n   </cc:Work>\n  </rdf:RDF>\n </metadata>\n <defs>\n  <style type=\"text/css\">*{stroke-linecap:butt;stroke-linejoin:round;}</style>\n </defs>\n <g id=\"figure_1\">\n  <g id=\"patch_1\">\n   <path d=\"M 0 277.314375 \nL 411.23125 277.314375 \nL 411.23125 0 \nL 0 0 \nz\n\" style=\"fill:none;\"/>\n  </g>\n  <g id=\"axes_1\">\n   <g id=\"patch_2\">\n    <path d=\"M 62.86875 239.758125 \nL 397.66875 239.758125 \nL 397.66875 22.318125 \nL 62.86875 22.318125 \nz\n\" style=\"fill:#ffffff;\"/>\n   </g>\n   <g id=\"matplotlib.axis_1\">\n    <g id=\"xtick_1\">\n     <g id=\"line2d_1\">\n      <defs>\n       <path d=\"M 0 0 \nL 0 3.5 \n\" id=\"mb1bf51c73e\" style=\"stroke:#000000;stroke-width:0.8;\"/>\n      </defs>\n      <g>\n       <use style=\"stroke:#000000;stroke-width:0.8;\" x=\"62.86875\" xlink:href=\"#mb1bf51c73e\" y=\"239.758125\"/>\n      </g>\n     </g>\n     <g id=\"text_1\">\n      <!-- 0 -->\n      <g transform=\"translate(59.6875 254.356562)scale(0.1 -0.1)\">\n       <defs>\n        <path d=\"M 31.78125 66.40625 \nQ 24.171875 66.40625 20.328125 58.90625 \nQ 16.5 51.421875 16.5 36.375 \nQ 16.5 21.390625 20.328125 13.890625 \nQ 24.171875 6.390625 31.78125 6.390625 \nQ 39.453125 6.390625 43.28125 13.890625 \nQ 47.125 21.390625 47.125 36.375 \nQ 47.125 51.421875 43.28125 58.90625 \nQ 39.453125 66.40625 31.78125 66.40625 \nz\nM 31.78125 74.21875 \nQ 44.046875 74.21875 50.515625 64.515625 \nQ 56.984375 54.828125 56.984375 36.375 \nQ 56.984375 17.96875 50.515625 8.265625 \nQ 44.046875 -1.421875 31.78125 -1.421875 \nQ 19.53125 -1.421875 13.0625 8.265625 \nQ 6.59375 17.96875 6.59375 36.375 \nQ 6.59375 54.828125 13.0625 64.515625 \nQ 19.53125 74.21875 31.78125 74.21875 \nz\n\" id=\"DejaVuSans-48\"/>\n       </defs>\n       <use xlink:href=\"#DejaVuSans-48\"/>\n      </g>\n     </g>\n    </g>\n    <g id=\"xtick_2\">\n     <g id=\"line2d_2\">\n      <g>\n       <use style=\"stroke:#000000;stroke-width:0.8;\" x=\"104.71875\" xlink:href=\"#mb1bf51c73e\" y=\"239.758125\"/>\n      </g>\n     </g>\n     <g id=\"text_2\">\n      <!-- 10 -->\n      <g transform=\"translate(98.35625 254.356562)scale(0.1 -0.1)\">\n       <defs>\n        <path d=\"M 12.40625 8.296875 \nL 28.515625 8.296875 \nL 28.515625 63.921875 \nL 10.984375 60.40625 \nL 10.984375 69.390625 \nL 28.421875 72.90625 \nL 38.28125 72.90625 \nL 38.28125 8.296875 \nL 54.390625 8.296875 \nL 54.390625 0 \nL 12.40625 0 \nz\n\" id=\"DejaVuSans-49\"/>\n       </defs>\n       <use xlink:href=\"#DejaVuSans-49\"/>\n       <use x=\"63.623047\" xlink:href=\"#DejaVuSans-48\"/>\n      </g>\n     </g>\n    </g>\n    <g id=\"xtick_3\">\n     <g id=\"line2d_3\">\n      <g>\n       <use style=\"stroke:#000000;stroke-width:0.8;\" x=\"146.56875\" xlink:href=\"#mb1bf51c73e\" y=\"239.758125\"/>\n      </g>\n     </g>\n     <g id=\"text_3\">\n      <!-- 20 -->\n      <g transform=\"translate(140.20625 254.356562)scale(0.1 -0.1)\">\n       <defs>\n        <path d=\"M 19.1875 8.296875 \nL 53.609375 8.296875 \nL 53.609375 0 \nL 7.328125 0 \nL 7.328125 8.296875 \nQ 12.9375 14.109375 22.625 23.890625 \nQ 32.328125 33.6875 34.8125 36.53125 \nQ 39.546875 41.84375 41.421875 45.53125 \nQ 43.3125 49.21875 43.3125 52.78125 \nQ 43.3125 58.59375 39.234375 62.25 \nQ 35.15625 65.921875 28.609375 65.921875 \nQ 23.96875 65.921875 18.8125 64.3125 \nQ 13.671875 62.703125 7.8125 59.421875 \nL 7.8125 69.390625 \nQ 13.765625 71.78125 18.9375 73 \nQ 24.125 74.21875 28.421875 74.21875 \nQ 39.75 74.21875 46.484375 68.546875 \nQ 53.21875 62.890625 53.21875 53.421875 \nQ 53.21875 48.921875 51.53125 44.890625 \nQ 49.859375 40.875 45.40625 35.40625 \nQ 44.1875 33.984375 37.640625 27.21875 \nQ 31.109375 20.453125 19.1875 8.296875 \nz\n\" id=\"DejaVuSans-50\"/>\n       </defs>\n       <use xlink:href=\"#DejaVuSans-50\"/>\n       <use x=\"63.623047\" xlink:href=\"#DejaVuSans-48\"/>\n      </g>\n     </g>\n    </g>\n    <g id=\"xtick_4\">\n     <g id=\"line2d_4\">\n      <g>\n       <use style=\"stroke:#000000;stroke-width:0.8;\" x=\"188.41875\" xlink:href=\"#mb1bf51c73e\" y=\"239.758125\"/>\n      </g>\n     </g>\n     <g id=\"text_4\">\n      <!-- 30 -->\n      <g transform=\"translate(182.05625 254.356562)scale(0.1 -0.1)\">\n       <defs>\n        <path d=\"M 40.578125 39.3125 \nQ 47.65625 37.796875 51.625 33 \nQ 55.609375 28.21875 55.609375 21.1875 \nQ 55.609375 10.40625 48.1875 4.484375 \nQ 40.765625 -1.421875 27.09375 -1.421875 \nQ 22.515625 -1.421875 17.65625 -0.515625 \nQ 12.796875 0.390625 7.625 2.203125 \nL 7.625 11.71875 \nQ 11.71875 9.328125 16.59375 8.109375 \nQ 21.484375 6.890625 26.8125 6.890625 \nQ 36.078125 6.890625 40.9375 10.546875 \nQ 45.796875 14.203125 45.796875 21.1875 \nQ 45.796875 27.640625 41.28125 31.265625 \nQ 36.765625 34.90625 28.71875 34.90625 \nL 20.21875 34.90625 \nL 20.21875 43.015625 \nL 29.109375 43.015625 \nQ 36.375 43.015625 40.234375 45.921875 \nQ 44.09375 48.828125 44.09375 54.296875 \nQ 44.09375 59.90625 40.109375 62.90625 \nQ 36.140625 65.921875 28.71875 65.921875 \nQ 24.65625 65.921875 20.015625 65.03125 \nQ 15.375 64.15625 9.8125 62.3125 \nL 9.8125 71.09375 \nQ 15.4375 72.65625 20.34375 73.4375 \nQ 25.25 74.21875 29.59375 74.21875 \nQ 40.828125 74.21875 47.359375 69.109375 \nQ 53.90625 64.015625 53.90625 55.328125 \nQ 53.90625 49.265625 50.4375 45.09375 \nQ 46.96875 40.921875 40.578125 39.3125 \nz\n\" id=\"DejaVuSans-51\"/>\n       </defs>\n       <use xlink:href=\"#DejaVuSans-51\"/>\n       <use x=\"63.623047\" xlink:href=\"#DejaVuSans-48\"/>\n      </g>\n     </g>\n    </g>\n    <g id=\"xtick_5\">\n     <g id=\"line2d_5\">\n      <g>\n       <use style=\"stroke:#000000;stroke-width:0.8;\" x=\"230.26875\" xlink:href=\"#mb1bf51c73e\" y=\"239.758125\"/>\n      </g>\n     </g>\n     <g id=\"text_5\">\n      <!-- 40 -->\n      <g transform=\"translate(223.90625 254.356562)scale(0.1 -0.1)\">\n       <defs>\n        <path d=\"M 37.796875 64.3125 \nL 12.890625 25.390625 \nL 37.796875 25.390625 \nz\nM 35.203125 72.90625 \nL 47.609375 72.90625 \nL 47.609375 25.390625 \nL 58.015625 25.390625 \nL 58.015625 17.1875 \nL 47.609375 17.1875 \nL 47.609375 0 \nL 37.796875 0 \nL 37.796875 17.1875 \nL 4.890625 17.1875 \nL 4.890625 26.703125 \nz\n\" id=\"DejaVuSans-52\"/>\n       </defs>\n       <use xlink:href=\"#DejaVuSans-52\"/>\n       <use x=\"63.623047\" xlink:href=\"#DejaVuSans-48\"/>\n      </g>\n     </g>\n    </g>\n    <g id=\"xtick_6\">\n     <g id=\"line2d_6\">\n      <g>\n       <use style=\"stroke:#000000;stroke-width:0.8;\" x=\"272.11875\" xlink:href=\"#mb1bf51c73e\" y=\"239.758125\"/>\n      </g>\n     </g>\n     <g id=\"text_6\">\n      <!-- 50 -->\n      <g transform=\"translate(265.75625 254.356562)scale(0.1 -0.1)\">\n       <defs>\n        <path d=\"M 10.796875 72.90625 \nL 49.515625 72.90625 \nL 49.515625 64.59375 \nL 19.828125 64.59375 \nL 19.828125 46.734375 \nQ 21.96875 47.46875 24.109375 47.828125 \nQ 26.265625 48.1875 28.421875 48.1875 \nQ 40.625 48.1875 47.75 41.5 \nQ 54.890625 34.8125 54.890625 23.390625 \nQ 54.890625 11.625 47.5625 5.09375 \nQ 40.234375 -1.421875 26.90625 -1.421875 \nQ 22.3125 -1.421875 17.546875 -0.640625 \nQ 12.796875 0.140625 7.71875 1.703125 \nL 7.71875 11.625 \nQ 12.109375 9.234375 16.796875 8.0625 \nQ 21.484375 6.890625 26.703125 6.890625 \nQ 35.15625 6.890625 40.078125 11.328125 \nQ 45.015625 15.765625 45.015625 23.390625 \nQ 45.015625 31 40.078125 35.4375 \nQ 35.15625 39.890625 26.703125 39.890625 \nQ 22.75 39.890625 18.8125 39.015625 \nQ 14.890625 38.140625 10.796875 36.28125 \nz\n\" id=\"DejaVuSans-53\"/>\n       </defs>\n       <use xlink:href=\"#DejaVuSans-53\"/>\n       <use x=\"63.623047\" xlink:href=\"#DejaVuSans-48\"/>\n      </g>\n     </g>\n    </g>\n    <g id=\"xtick_7\">\n     <g id=\"line2d_7\">\n      <g>\n       <use style=\"stroke:#000000;stroke-width:0.8;\" x=\"313.96875\" xlink:href=\"#mb1bf51c73e\" y=\"239.758125\"/>\n      </g>\n     </g>\n     <g id=\"text_7\">\n      <!-- 60 -->\n      <g transform=\"translate(307.60625 254.356562)scale(0.1 -0.1)\">\n       <defs>\n        <path d=\"M 33.015625 40.375 \nQ 26.375 40.375 22.484375 35.828125 \nQ 18.609375 31.296875 18.609375 23.390625 \nQ 18.609375 15.53125 22.484375 10.953125 \nQ 26.375 6.390625 33.015625 6.390625 \nQ 39.65625 6.390625 43.53125 10.953125 \nQ 47.40625 15.53125 47.40625 23.390625 \nQ 47.40625 31.296875 43.53125 35.828125 \nQ 39.65625 40.375 33.015625 40.375 \nz\nM 52.59375 71.296875 \nL 52.59375 62.3125 \nQ 48.875 64.0625 45.09375 64.984375 \nQ 41.3125 65.921875 37.59375 65.921875 \nQ 27.828125 65.921875 22.671875 59.328125 \nQ 17.53125 52.734375 16.796875 39.40625 \nQ 19.671875 43.65625 24.015625 45.921875 \nQ 28.375 48.1875 33.59375 48.1875 \nQ 44.578125 48.1875 50.953125 41.515625 \nQ 57.328125 34.859375 57.328125 23.390625 \nQ 57.328125 12.15625 50.6875 5.359375 \nQ 44.046875 -1.421875 33.015625 -1.421875 \nQ 20.359375 -1.421875 13.671875 8.265625 \nQ 6.984375 17.96875 6.984375 36.375 \nQ 6.984375 53.65625 15.1875 63.9375 \nQ 23.390625 74.21875 37.203125 74.21875 \nQ 40.921875 74.21875 44.703125 73.484375 \nQ 48.484375 72.75 52.59375 71.296875 \nz\n\" id=\"DejaVuSans-54\"/>\n       </defs>\n       <use xlink:href=\"#DejaVuSans-54\"/>\n       <use x=\"63.623047\" xlink:href=\"#DejaVuSans-48\"/>\n      </g>\n     </g>\n    </g>\n    <g id=\"xtick_8\">\n     <g id=\"line2d_8\">\n      <g>\n       <use style=\"stroke:#000000;stroke-width:0.8;\" x=\"355.81875\" xlink:href=\"#mb1bf51c73e\" y=\"239.758125\"/>\n      </g>\n     </g>\n     <g id=\"text_8\">\n      <!-- 70 -->\n      <g transform=\"translate(349.45625 254.356562)scale(0.1 -0.1)\">\n       <defs>\n        <path d=\"M 8.203125 72.90625 \nL 55.078125 72.90625 \nL 55.078125 68.703125 \nL 28.609375 0 \nL 18.3125 0 \nL 43.21875 64.59375 \nL 8.203125 64.59375 \nz\n\" id=\"DejaVuSans-55\"/>\n       </defs>\n       <use xlink:href=\"#DejaVuSans-55\"/>\n       <use x=\"63.623047\" xlink:href=\"#DejaVuSans-48\"/>\n      </g>\n     </g>\n    </g>\n    <g id=\"xtick_9\">\n     <g id=\"line2d_9\">\n      <g>\n       <use style=\"stroke:#000000;stroke-width:0.8;\" x=\"397.66875\" xlink:href=\"#mb1bf51c73e\" y=\"239.758125\"/>\n      </g>\n     </g>\n     <g id=\"text_9\">\n      <!-- 80 -->\n      <g transform=\"translate(391.30625 254.356562)scale(0.1 -0.1)\">\n       <defs>\n        <path d=\"M 31.78125 34.625 \nQ 24.75 34.625 20.71875 30.859375 \nQ 16.703125 27.09375 16.703125 20.515625 \nQ 16.703125 13.921875 20.71875 10.15625 \nQ 24.75 6.390625 31.78125 6.390625 \nQ 38.8125 6.390625 42.859375 10.171875 \nQ 46.921875 13.96875 46.921875 20.515625 \nQ 46.921875 27.09375 42.890625 30.859375 \nQ 38.875 34.625 31.78125 34.625 \nz\nM 21.921875 38.8125 \nQ 15.578125 40.375 12.03125 44.71875 \nQ 8.5 49.078125 8.5 55.328125 \nQ 8.5 64.0625 14.71875 69.140625 \nQ 20.953125 74.21875 31.78125 74.21875 \nQ 42.671875 74.21875 48.875 69.140625 \nQ 55.078125 64.0625 55.078125 55.328125 \nQ 55.078125 49.078125 51.53125 44.71875 \nQ 48 40.375 41.703125 38.8125 \nQ 48.828125 37.15625 52.796875 32.3125 \nQ 56.78125 27.484375 56.78125 20.515625 \nQ 56.78125 9.90625 50.3125 4.234375 \nQ 43.84375 -1.421875 31.78125 -1.421875 \nQ 19.734375 -1.421875 13.25 4.234375 \nQ 6.78125 9.90625 6.78125 20.515625 \nQ 6.78125 27.484375 10.78125 32.3125 \nQ 14.796875 37.15625 21.921875 38.8125 \nz\nM 18.3125 54.390625 \nQ 18.3125 48.734375 21.84375 45.5625 \nQ 25.390625 42.390625 31.78125 42.390625 \nQ 38.140625 42.390625 41.71875 45.5625 \nQ 45.3125 48.734375 45.3125 54.390625 \nQ 45.3125 60.0625 41.71875 63.234375 \nQ 38.140625 66.40625 31.78125 66.40625 \nQ 25.390625 66.40625 21.84375 63.234375 \nQ 18.3125 60.0625 18.3125 54.390625 \nz\n\" id=\"DejaVuSans-56\"/>\n       </defs>\n       <use xlink:href=\"#DejaVuSans-56\"/>\n       <use x=\"63.623047\" xlink:href=\"#DejaVuSans-48\"/>\n      </g>\n     </g>\n    </g>\n    <g id=\"text_10\">\n     <!-- Events per inference -->\n     <g transform=\"translate(178.446875 268.034687)scale(0.1 -0.1)\">\n      <defs>\n       <path d=\"M 9.8125 72.90625 \nL 55.90625 72.90625 \nL 55.90625 64.59375 \nL 19.671875 64.59375 \nL 19.671875 43.015625 \nL 54.390625 43.015625 \nL 54.390625 34.71875 \nL 19.671875 34.71875 \nL 19.671875 8.296875 \nL 56.78125 8.296875 \nL 56.78125 0 \nL 9.8125 0 \nz\n\" id=\"DejaVuSans-69\"/>\n       <path d=\"M 2.984375 54.6875 \nL 12.5 54.6875 \nL 29.59375 8.796875 \nL 46.6875 54.6875 \nL 56.203125 54.6875 \nL 35.6875 0 \nL 23.484375 0 \nz\n\" id=\"DejaVuSans-118\"/>\n       <path d=\"M 56.203125 29.59375 \nL 56.203125 25.203125 \nL 14.890625 25.203125 \nQ 15.484375 15.921875 20.484375 11.0625 \nQ 25.484375 6.203125 34.421875 6.203125 \nQ 39.59375 6.203125 44.453125 7.46875 \nQ 49.3125 8.734375 54.109375 11.28125 \nL 54.109375 2.78125 \nQ 49.265625 0.734375 44.1875 -0.34375 \nQ 39.109375 -1.421875 33.890625 -1.421875 \nQ 20.796875 -1.421875 13.15625 6.1875 \nQ 5.515625 13.8125 5.515625 26.8125 \nQ 5.515625 40.234375 12.765625 48.109375 \nQ 20.015625 56 32.328125 56 \nQ 43.359375 56 49.78125 48.890625 \nQ 56.203125 41.796875 56.203125 29.59375 \nz\nM 47.21875 32.234375 \nQ 47.125 39.59375 43.09375 43.984375 \nQ 39.0625 48.390625 32.421875 48.390625 \nQ 24.90625 48.390625 20.390625 44.140625 \nQ 15.875 39.890625 15.1875 32.171875 \nz\n\" id=\"DejaVuSans-101\"/>\n       <path d=\"M 54.890625 33.015625 \nL 54.890625 0 \nL 45.90625 0 \nL 45.90625 32.71875 \nQ 45.90625 40.484375 42.875 44.328125 \nQ 39.84375 48.1875 33.796875 48.1875 \nQ 26.515625 48.1875 22.3125 43.546875 \nQ 18.109375 38.921875 18.109375 30.90625 \nL 18.109375 0 \nL 9.078125 0 \nL 9.078125 54.6875 \nL 18.109375 54.6875 \nL 18.109375 46.1875 \nQ 21.34375 51.125 25.703125 53.5625 \nQ 30.078125 56 35.796875 56 \nQ 45.21875 56 50.046875 50.171875 \nQ 54.890625 44.34375 54.890625 33.015625 \nz\n\" id=\"DejaVuSans-110\"/>\n       <path d=\"M 18.3125 70.21875 \nL 18.3125 54.6875 \nL 36.8125 54.6875 \nL 36.8125 47.703125 \nL 18.3125 47.703125 \nL 18.3125 18.015625 \nQ 18.3125 11.328125 20.140625 9.421875 \nQ 21.96875 7.515625 27.59375 7.515625 \nL 36.8125 7.515625 \nL 36.8125 0 \nL 27.59375 0 \nQ 17.1875 0 13.234375 3.875 \nQ 9.28125 7.765625 9.28125 18.015625 \nL 9.28125 47.703125 \nL 2.6875 47.703125 \nL 2.6875 54.6875 \nL 9.28125 54.6875 \nL 9.28125 70.21875 \nz\n\" id=\"DejaVuSans-116\"/>\n       <path d=\"M 44.28125 53.078125 \nL 44.28125 44.578125 \nQ 40.484375 46.53125 36.375 47.5 \nQ 32.28125 48.484375 27.875 48.484375 \nQ 21.1875 48.484375 17.84375 46.4375 \nQ 14.5 44.390625 14.5 40.28125 \nQ 14.5 37.15625 16.890625 35.375 \nQ 19.28125 33.59375 26.515625 31.984375 \nL 29.59375 31.296875 \nQ 39.15625 29.25 43.1875 25.515625 \nQ 47.21875 21.78125 47.21875 15.09375 \nQ 47.21875 7.46875 41.1875 3.015625 \nQ 35.15625 -1.421875 24.609375 -1.421875 \nQ 20.21875 -1.421875 15.453125 -0.5625 \nQ 10.6875 0.296875 5.421875 2 \nL 5.421875 11.28125 \nQ 10.40625 8.6875 15.234375 7.390625 \nQ 20.0625 6.109375 24.8125 6.109375 \nQ 31.15625 6.109375 34.5625 8.28125 \nQ 37.984375 10.453125 37.984375 14.40625 \nQ 37.984375 18.0625 35.515625 20.015625 \nQ 33.0625 21.96875 24.703125 23.78125 \nL 21.578125 24.515625 \nQ 13.234375 26.265625 9.515625 29.90625 \nQ 5.8125 33.546875 5.8125 39.890625 \nQ 5.8125 47.609375 11.28125 51.796875 \nQ 16.75 56 26.8125 56 \nQ 31.78125 56 36.171875 55.265625 \nQ 40.578125 54.546875 44.28125 53.078125 \nz\n\" id=\"DejaVuSans-115\"/>\n       <path id=\"DejaVuSans-32\"/>\n       <path d=\"M 18.109375 8.203125 \nL 18.109375 -20.796875 \nL 9.078125 -20.796875 \nL 9.078125 54.6875 \nL 18.109375 54.6875 \nL 18.109375 46.390625 \nQ 20.953125 51.265625 25.265625 53.625 \nQ 29.59375 56 35.59375 56 \nQ 45.5625 56 51.78125 48.09375 \nQ 58.015625 40.1875 58.015625 27.296875 \nQ 58.015625 14.40625 51.78125 6.484375 \nQ 45.5625 -1.421875 35.59375 -1.421875 \nQ 29.59375 -1.421875 25.265625 0.953125 \nQ 20.953125 3.328125 18.109375 8.203125 \nz\nM 48.6875 27.296875 \nQ 48.6875 37.203125 44.609375 42.84375 \nQ 40.53125 48.484375 33.40625 48.484375 \nQ 26.265625 48.484375 22.1875 42.84375 \nQ 18.109375 37.203125 18.109375 27.296875 \nQ 18.109375 17.390625 22.1875 11.75 \nQ 26.265625 6.109375 33.40625 6.109375 \nQ 40.53125 6.109375 44.609375 11.75 \nQ 48.6875 17.390625 48.6875 27.296875 \nz\n\" id=\"DejaVuSans-112\"/>\n       <path d=\"M 41.109375 46.296875 \nQ 39.59375 47.171875 37.8125 47.578125 \nQ 36.03125 48 33.890625 48 \nQ 26.265625 48 22.1875 43.046875 \nQ 18.109375 38.09375 18.109375 28.8125 \nL 18.109375 0 \nL 9.078125 0 \nL 9.078125 54.6875 \nL 18.109375 54.6875 \nL 18.109375 46.1875 \nQ 20.953125 51.171875 25.484375 53.578125 \nQ 30.03125 56 36.53125 56 \nQ 37.453125 56 38.578125 55.875 \nQ 39.703125 55.765625 41.0625 55.515625 \nz\n\" id=\"DejaVuSans-114\"/>\n       <path d=\"M 9.421875 54.6875 \nL 18.40625 54.6875 \nL 18.40625 0 \nL 9.421875 0 \nz\nM 9.421875 75.984375 \nL 18.40625 75.984375 \nL 18.40625 64.59375 \nL 9.421875 64.59375 \nz\n\" id=\"DejaVuSans-105\"/>\n       <path d=\"M 37.109375 75.984375 \nL 37.109375 68.5 \nL 28.515625 68.5 \nQ 23.6875 68.5 21.796875 66.546875 \nQ 19.921875 64.59375 19.921875 59.515625 \nL 19.921875 54.6875 \nL 34.71875 54.6875 \nL 34.71875 47.703125 \nL 19.921875 47.703125 \nL 19.921875 0 \nL 10.890625 0 \nL 10.890625 47.703125 \nL 2.296875 47.703125 \nL 2.296875 54.6875 \nL 10.890625 54.6875 \nL 10.890625 58.5 \nQ 10.890625 67.625 15.140625 71.796875 \nQ 19.390625 75.984375 28.609375 75.984375 \nz\n\" id=\"DejaVuSans-102\"/>\n       <path d=\"M 48.78125 52.59375 \nL 48.78125 44.1875 \nQ 44.96875 46.296875 41.140625 47.34375 \nQ 37.3125 48.390625 33.40625 48.390625 \nQ 24.65625 48.390625 19.8125 42.84375 \nQ 14.984375 37.3125 14.984375 27.296875 \nQ 14.984375 17.28125 19.8125 11.734375 \nQ 24.65625 6.203125 33.40625 6.203125 \nQ 37.3125 6.203125 41.140625 7.25 \nQ 44.96875 8.296875 48.78125 10.40625 \nL 48.78125 2.09375 \nQ 45.015625 0.34375 40.984375 -0.53125 \nQ 36.96875 -1.421875 32.421875 -1.421875 \nQ 20.0625 -1.421875 12.78125 6.34375 \nQ 5.515625 14.109375 5.515625 27.296875 \nQ 5.515625 40.671875 12.859375 48.328125 \nQ 20.21875 56 33.015625 56 \nQ 37.15625 56 41.109375 55.140625 \nQ 45.0625 54.296875 48.78125 52.59375 \nz\n\" id=\"DejaVuSans-99\"/>\n      </defs>\n      <use xlink:href=\"#DejaVuSans-69\"/>\n      <use x=\"63.183594\" xlink:href=\"#DejaVuSans-118\"/>\n      <use x=\"122.363281\" xlink:href=\"#DejaVuSans-101\"/>\n      <use x=\"183.886719\" xlink:href=\"#DejaVuSans-110\"/>\n      <use x=\"247.265625\" xlink:href=\"#DejaVuSans-116\"/>\n      <use x=\"286.474609\" xlink:href=\"#DejaVuSans-115\"/>\n      <use x=\"338.574219\" xlink:href=\"#DejaVuSans-32\"/>\n      <use x=\"370.361328\" xlink:href=\"#DejaVuSans-112\"/>\n      <use x=\"433.837891\" xlink:href=\"#DejaVuSans-101\"/>\n      <use x=\"495.361328\" xlink:href=\"#DejaVuSans-114\"/>\n      <use x=\"536.474609\" xlink:href=\"#DejaVuSans-32\"/>\n      <use x=\"568.261719\" xlink:href=\"#DejaVuSans-105\"/>\n      <use x=\"596.044922\" xlink:href=\"#DejaVuSans-110\"/>\n      <use x=\"659.423828\" xlink:href=\"#DejaVuSans-102\"/>\n      <use x=\"694.628906\" xlink:href=\"#DejaVuSans-101\"/>\n      <use x=\"756.152344\" xlink:href=\"#DejaVuSans-114\"/>\n      <use x=\"795.015625\" xlink:href=\"#DejaVuSans-101\"/>\n      <use x=\"856.539062\" xlink:href=\"#DejaVuSans-110\"/>\n      <use x=\"919.917969\" xlink:href=\"#DejaVuSans-99\"/>\n      <use x=\"974.898438\" xlink:href=\"#DejaVuSans-101\"/>\n     </g>\n    </g>\n   </g>\n   <g id=\"matplotlib.axis_2\">\n    <g id=\"ytick_1\">\n     <g id=\"line2d_10\">\n      <defs>\n       <path d=\"M 0 0 \nL -3.5 0 \n\" id=\"m19febb0552\" style=\"stroke:#000000;stroke-width:0.8;\"/>\n      </defs>\n      <g>\n       <use style=\"stroke:#000000;stroke-width:0.8;\" x=\"62.86875\" xlink:href=\"#m19febb0552\" y=\"239.758125\"/>\n      </g>\n     </g>\n     <g id=\"text_11\">\n      <!-- 0.0000 -->\n      <g transform=\"translate(20.878125 243.557344)scale(0.1 -0.1)\">\n       <defs>\n        <path d=\"M 10.6875 12.40625 \nL 21 12.40625 \nL 21 0 \nL 10.6875 0 \nz\n\" id=\"DejaVuSans-46\"/>\n       </defs>\n       <use xlink:href=\"#DejaVuSans-48\"/>\n       <use x=\"63.623047\" xlink:href=\"#DejaVuSans-46\"/>\n       <use x=\"95.410156\" xlink:href=\"#DejaVuSans-48\"/>\n       <use x=\"159.033203\" xlink:href=\"#DejaVuSans-48\"/>\n       <use x=\"222.65625\" xlink:href=\"#DejaVuSans-48\"/>\n       <use x=\"286.279297\" xlink:href=\"#DejaVuSans-48\"/>\n      </g>\n     </g>\n    </g>\n    <g id=\"ytick_2\">\n     <g id=\"line2d_11\">\n      <g>\n       <use style=\"stroke:#000000;stroke-width:0.8;\" x=\"62.86875\" xlink:href=\"#m19febb0552\" y=\"212.578125\"/>\n      </g>\n     </g>\n     <g id=\"text_12\">\n      <!-- 0.0001 -->\n      <g transform=\"translate(20.878125 216.377344)scale(0.1 -0.1)\">\n       <use xlink:href=\"#DejaVuSans-48\"/>\n       <use x=\"63.623047\" xlink:href=\"#DejaVuSans-46\"/>\n       <use x=\"95.410156\" xlink:href=\"#DejaVuSans-48\"/>\n       <use x=\"159.033203\" xlink:href=\"#DejaVuSans-48\"/>\n       <use x=\"222.65625\" xlink:href=\"#DejaVuSans-48\"/>\n       <use x=\"286.279297\" xlink:href=\"#DejaVuSans-49\"/>\n      </g>\n     </g>\n    </g>\n    <g id=\"ytick_3\">\n     <g id=\"line2d_12\">\n      <g>\n       <use style=\"stroke:#000000;stroke-width:0.8;\" x=\"62.86875\" xlink:href=\"#m19febb0552\" y=\"185.398125\"/>\n      </g>\n     </g>\n     <g id=\"text_13\">\n      <!-- 0.0002 -->\n      <g transform=\"translate(20.878125 189.197344)scale(0.1 -0.1)\">\n       <use xlink:href=\"#DejaVuSans-48\"/>\n       <use x=\"63.623047\" xlink:href=\"#DejaVuSans-46\"/>\n       <use x=\"95.410156\" xlink:href=\"#DejaVuSans-48\"/>\n       <use x=\"159.033203\" xlink:href=\"#DejaVuSans-48\"/>\n       <use x=\"222.65625\" xlink:href=\"#DejaVuSans-48\"/>\n       <use x=\"286.279297\" xlink:href=\"#DejaVuSans-50\"/>\n      </g>\n     </g>\n    </g>\n    <g id=\"ytick_4\">\n     <g id=\"line2d_13\">\n      <g>\n       <use style=\"stroke:#000000;stroke-width:0.8;\" x=\"62.86875\" xlink:href=\"#m19febb0552\" y=\"158.218125\"/>\n      </g>\n     </g>\n     <g id=\"text_14\">\n      <!-- 0.0003 -->\n      <g transform=\"translate(20.878125 162.017344)scale(0.1 -0.1)\">\n       <use xlink:href=\"#DejaVuSans-48\"/>\n       <use x=\"63.623047\" xlink:href=\"#DejaVuSans-46\"/>\n       <use x=\"95.410156\" xlink:href=\"#DejaVuSans-48\"/>\n       <use x=\"159.033203\" xlink:href=\"#DejaVuSans-48\"/>\n       <use x=\"222.65625\" xlink:href=\"#DejaVuSans-48\"/>\n       <use x=\"286.279297\" xlink:href=\"#DejaVuSans-51\"/>\n      </g>\n     </g>\n    </g>\n    <g id=\"ytick_5\">\n     <g id=\"line2d_14\">\n      <g>\n       <use style=\"stroke:#000000;stroke-width:0.8;\" x=\"62.86875\" xlink:href=\"#m19febb0552\" y=\"131.038125\"/>\n      </g>\n     </g>\n     <g id=\"text_15\">\n      <!-- 0.0004 -->\n      <g transform=\"translate(20.878125 134.837344)scale(0.1 -0.1)\">\n       <use xlink:href=\"#DejaVuSans-48\"/>\n       <use x=\"63.623047\" xlink:href=\"#DejaVuSans-46\"/>\n       <use x=\"95.410156\" xlink:href=\"#DejaVuSans-48\"/>\n       <use x=\"159.033203\" xlink:href=\"#DejaVuSans-48\"/>\n       <use x=\"222.65625\" xlink:href=\"#DejaVuSans-48\"/>\n       <use x=\"286.279297\" xlink:href=\"#DejaVuSans-52\"/>\n      </g>\n     </g>\n    </g>\n    <g id=\"ytick_6\">\n     <g id=\"line2d_15\">\n      <g>\n       <use style=\"stroke:#000000;stroke-width:0.8;\" x=\"62.86875\" xlink:href=\"#m19febb0552\" y=\"103.858125\"/>\n      </g>\n     </g>\n     <g id=\"text_16\">\n      <!-- 0.0005 -->\n      <g transform=\"translate(20.878125 107.657344)scale(0.1 -0.1)\">\n       <use xlink:href=\"#DejaVuSans-48\"/>\n       <use x=\"63.623047\" xlink:href=\"#DejaVuSans-46\"/>\n       <use x=\"95.410156\" xlink:href=\"#DejaVuSans-48\"/>\n       <use x=\"159.033203\" xlink:href=\"#DejaVuSans-48\"/>\n       <use x=\"222.65625\" xlink:href=\"#DejaVuSans-48\"/>\n       <use x=\"286.279297\" xlink:href=\"#DejaVuSans-53\"/>\n      </g>\n     </g>\n    </g>\n    <g id=\"ytick_7\">\n     <g id=\"line2d_16\">\n      <g>\n       <use style=\"stroke:#000000;stroke-width:0.8;\" x=\"62.86875\" xlink:href=\"#m19febb0552\" y=\"76.678125\"/>\n      </g>\n     </g>\n     <g id=\"text_17\">\n      <!-- 0.0006 -->\n      <g transform=\"translate(20.878125 80.477344)scale(0.1 -0.1)\">\n       <use xlink:href=\"#DejaVuSans-48\"/>\n       <use x=\"63.623047\" xlink:href=\"#DejaVuSans-46\"/>\n       <use x=\"95.410156\" xlink:href=\"#DejaVuSans-48\"/>\n       <use x=\"159.033203\" xlink:href=\"#DejaVuSans-48\"/>\n       <use x=\"222.65625\" xlink:href=\"#DejaVuSans-48\"/>\n       <use x=\"286.279297\" xlink:href=\"#DejaVuSans-54\"/>\n      </g>\n     </g>\n    </g>\n    <g id=\"ytick_8\">\n     <g id=\"line2d_17\">\n      <g>\n       <use style=\"stroke:#000000;stroke-width:0.8;\" x=\"62.86875\" xlink:href=\"#m19febb0552\" y=\"49.498125\"/>\n      </g>\n     </g>\n     <g id=\"text_18\">\n      <!-- 0.0007 -->\n      <g transform=\"translate(20.878125 53.297344)scale(0.1 -0.1)\">\n       <use xlink:href=\"#DejaVuSans-48\"/>\n       <use x=\"63.623047\" xlink:href=\"#DejaVuSans-46\"/>\n       <use x=\"95.410156\" xlink:href=\"#DejaVuSans-48\"/>\n       <use x=\"159.033203\" xlink:href=\"#DejaVuSans-48\"/>\n       <use x=\"222.65625\" xlink:href=\"#DejaVuSans-48\"/>\n       <use x=\"286.279297\" xlink:href=\"#DejaVuSans-55\"/>\n      </g>\n     </g>\n    </g>\n    <g id=\"ytick_9\">\n     <g id=\"line2d_18\">\n      <g>\n       <use style=\"stroke:#000000;stroke-width:0.8;\" x=\"62.86875\" xlink:href=\"#m19febb0552\" y=\"22.318125\"/>\n      </g>\n     </g>\n     <g id=\"text_19\">\n      <!-- 0.0008 -->\n      <g transform=\"translate(20.878125 26.117344)scale(0.1 -0.1)\">\n       <use xlink:href=\"#DejaVuSans-48\"/>\n       <use x=\"63.623047\" xlink:href=\"#DejaVuSans-46\"/>\n       <use x=\"95.410156\" xlink:href=\"#DejaVuSans-48\"/>\n       <use x=\"159.033203\" xlink:href=\"#DejaVuSans-48\"/>\n       <use x=\"222.65625\" xlink:href=\"#DejaVuSans-48\"/>\n       <use x=\"286.279297\" xlink:href=\"#DejaVuSans-56\"/>\n      </g>\n     </g>\n    </g>\n    <g id=\"text_20\">\n     <!-- Time per inference (s) -->\n     <g transform=\"translate(14.798438 186.26)rotate(-90)scale(0.1 -0.1)\">\n      <defs>\n       <path d=\"M -0.296875 72.90625 \nL 61.375 72.90625 \nL 61.375 64.59375 \nL 35.5 64.59375 \nL 35.5 0 \nL 25.59375 0 \nL 25.59375 64.59375 \nL -0.296875 64.59375 \nz\n\" id=\"DejaVuSans-84\"/>\n       <path d=\"M 52 44.1875 \nQ 55.375 50.25 60.0625 53.125 \nQ 64.75 56 71.09375 56 \nQ 79.640625 56 84.28125 50.015625 \nQ 88.921875 44.046875 88.921875 33.015625 \nL 88.921875 0 \nL 79.890625 0 \nL 79.890625 32.71875 \nQ 79.890625 40.578125 77.09375 44.375 \nQ 74.3125 48.1875 68.609375 48.1875 \nQ 61.625 48.1875 57.5625 43.546875 \nQ 53.515625 38.921875 53.515625 30.90625 \nL 53.515625 0 \nL 44.484375 0 \nL 44.484375 32.71875 \nQ 44.484375 40.625 41.703125 44.40625 \nQ 38.921875 48.1875 33.109375 48.1875 \nQ 26.21875 48.1875 22.15625 43.53125 \nQ 18.109375 38.875 18.109375 30.90625 \nL 18.109375 0 \nL 9.078125 0 \nL 9.078125 54.6875 \nL 18.109375 54.6875 \nL 18.109375 46.1875 \nQ 21.1875 51.21875 25.484375 53.609375 \nQ 29.78125 56 35.6875 56 \nQ 41.65625 56 45.828125 52.96875 \nQ 50 49.953125 52 44.1875 \nz\n\" id=\"DejaVuSans-109\"/>\n       <path d=\"M 31 75.875 \nQ 24.46875 64.65625 21.28125 53.65625 \nQ 18.109375 42.671875 18.109375 31.390625 \nQ 18.109375 20.125 21.3125 9.0625 \nQ 24.515625 -2 31 -13.1875 \nL 23.1875 -13.1875 \nQ 15.875 -1.703125 12.234375 9.375 \nQ 8.59375 20.453125 8.59375 31.390625 \nQ 8.59375 42.28125 12.203125 53.3125 \nQ 15.828125 64.359375 23.1875 75.875 \nz\n\" id=\"DejaVuSans-40\"/>\n       <path d=\"M 8.015625 75.875 \nL 15.828125 75.875 \nQ 23.140625 64.359375 26.78125 53.3125 \nQ 30.421875 42.28125 30.421875 31.390625 \nQ 30.421875 20.453125 26.78125 9.375 \nQ 23.140625 -1.703125 15.828125 -13.1875 \nL 8.015625 -13.1875 \nQ 14.5 -2 17.703125 9.0625 \nQ 20.90625 20.125 20.90625 31.390625 \nQ 20.90625 42.671875 17.703125 53.65625 \nQ 14.5 64.65625 8.015625 75.875 \nz\n\" id=\"DejaVuSans-41\"/>\n      </defs>\n      <use xlink:href=\"#DejaVuSans-84\"/>\n      <use x=\"57.958984\" xlink:href=\"#DejaVuSans-105\"/>\n      <use x=\"85.742188\" xlink:href=\"#DejaVuSans-109\"/>\n      <use x=\"183.154297\" xlink:href=\"#DejaVuSans-101\"/>\n      <use x=\"244.677734\" xlink:href=\"#DejaVuSans-32\"/>\n      <use x=\"276.464844\" xlink:href=\"#DejaVuSans-112\"/>\n      <use x=\"339.941406\" xlink:href=\"#DejaVuSans-101\"/>\n      <use x=\"401.464844\" xlink:href=\"#DejaVuSans-114\"/>\n      <use x=\"442.578125\" xlink:href=\"#DejaVuSans-32\"/>\n      <use x=\"474.365234\" xlink:href=\"#DejaVuSans-105\"/>\n      <use x=\"502.148438\" xlink:href=\"#DejaVuSans-110\"/>\n      <use x=\"565.527344\" xlink:href=\"#DejaVuSans-102\"/>\n      <use x=\"600.732422\" xlink:href=\"#DejaVuSans-101\"/>\n      <use x=\"662.255859\" xlink:href=\"#DejaVuSans-114\"/>\n      <use x=\"701.119141\" xlink:href=\"#DejaVuSans-101\"/>\n      <use x=\"762.642578\" xlink:href=\"#DejaVuSans-110\"/>\n      <use x=\"826.021484\" xlink:href=\"#DejaVuSans-99\"/>\n      <use x=\"881.001953\" xlink:href=\"#DejaVuSans-101\"/>\n      <use x=\"942.525391\" xlink:href=\"#DejaVuSans-32\"/>\n      <use x=\"974.3125\" xlink:href=\"#DejaVuSans-40\"/>\n      <use x=\"1013.326172\" xlink:href=\"#DejaVuSans-115\"/>\n      <use x=\"1065.425781\" xlink:href=\"#DejaVuSans-41\"/>\n     </g>\n    </g>\n   </g>\n   <g id=\"LineCollection_1\">\n    <path clip-path=\"url(#p76728219b2)\" style=\"fill:none;stroke:#1f77b4;stroke-width:1.5;\"/>\n    <path clip-path=\"url(#p76728219b2)\" style=\"fill:none;stroke:#1f77b4;stroke-width:1.5;\"/>\n    <path clip-path=\"url(#p76728219b2)\" d=\"M 83.79375 205.942327 \nL 83.79375 201.344083 \n\" style=\"fill:none;stroke:#1f77b4;stroke-width:1.5;\"/>\n    <path clip-path=\"url(#p76728219b2)\" d=\"M 92.16375 205.209612 \nL 92.16375 202.492427 \n\" style=\"fill:none;stroke:#1f77b4;stroke-width:1.5;\"/>\n    <path clip-path=\"url(#p76728219b2)\" d=\"M 113.08875 188.165761 \nL 113.08875 184.417971 \n\" style=\"fill:none;stroke:#1f77b4;stroke-width:1.5;\"/>\n    <path clip-path=\"url(#p76728219b2)\" d=\"M 142.38375 173.45859 \nL 142.38375 163.859353 \n\" style=\"fill:none;stroke:#1f77b4;stroke-width:1.5;\"/>\n    <path clip-path=\"url(#p76728219b2)\" d=\"M 192.60375 152.626242 \nL 192.60375 149.908579 \n\" style=\"fill:none;stroke:#1f77b4;stroke-width:1.5;\"/>\n    <path clip-path=\"url(#p76728219b2)\" style=\"fill:none;stroke:#1f77b4;stroke-width:1.5;\"/>\n    <path clip-path=\"url(#p76728219b2)\" style=\"fill:none;stroke:#1f77b4;stroke-width:1.5;\"/>\n    <path clip-path=\"url(#p76728219b2)\" style=\"fill:none;stroke:#1f77b4;stroke-width:1.5;\"/>\n    <path clip-path=\"url(#p76728219b2)\" d=\"M 267.93375 121.458804 \nL 267.93375 110.030493 \n\" style=\"fill:none;stroke:#1f77b4;stroke-width:1.5;\"/>\n    <path clip-path=\"url(#p76728219b2)\" style=\"fill:none;stroke:#1f77b4;stroke-width:1.5;\"/>\n    <path clip-path=\"url(#p76728219b2)\" style=\"fill:none;stroke:#1f77b4;stroke-width:1.5;\"/>\n    <path clip-path=\"url(#p76728219b2)\" style=\"fill:none;stroke:#1f77b4;stroke-width:1.5;\"/>\n    <path clip-path=\"url(#p76728219b2)\" style=\"fill:none;stroke:#1f77b4;stroke-width:1.5;\"/>\n    <path clip-path=\"url(#p76728219b2)\" d=\"M 385.11375 47.58237 \nL 385.11375 36.090943 \n\" style=\"fill:none;stroke:#1f77b4;stroke-width:1.5;\"/>\n    <path clip-path=\"url(#p76728219b2)\" style=\"fill:none;stroke:#1f77b4;stroke-width:1.5;\"/>\n    <path clip-path=\"url(#p76728219b2)\" style=\"fill:none;stroke:#1f77b4;stroke-width:1.5;\"/>\n    <path clip-path=\"url(#p76728219b2)\" style=\"fill:none;stroke:#1f77b4;stroke-width:1.5;\"/>\n    <path clip-path=\"url(#p76728219b2)\" style=\"fill:none;stroke:#1f77b4;stroke-width:1.5;\"/>\n   </g>\n   <g id=\"line2d_19\">\n    <defs>\n     <path d=\"M 0 3 \nC 0.795609 3 1.55874 2.683901 2.12132 2.12132 \nC 2.683901 1.55874 3 0.795609 3 0 \nC 3 -0.795609 2.683901 -1.55874 2.12132 -2.12132 \nC 1.55874 -2.683901 0.795609 -3 0 -3 \nC -0.795609 -3 -1.55874 -2.683901 -2.12132 -2.12132 \nC -2.683901 -1.55874 -3 -0.795609 -3 0 \nC -3 0.795609 -2.683901 1.55874 -2.12132 2.12132 \nC -1.55874 2.683901 -0.795609 3 0 3 \nz\n\" id=\"m34fd04d725\" style=\"stroke:#1f77b4;\"/>\n    </defs>\n    <g clip-path=\"url(#p76728219b2)\">\n     <use style=\"fill:#1f77b4;stroke:#1f77b4;\" x=\"401.485004\" xlink:href=\"#m34fd04d725\" y=\"-1\"/>\n     <use style=\"fill:#1f77b4;stroke:#1f77b4;\" x=\"83.79375\" xlink:href=\"#m34fd04d725\" y=\"203.643205\"/>\n     <use style=\"fill:#1f77b4;stroke:#1f77b4;\" x=\"92.16375\" xlink:href=\"#m34fd04d725\" y=\"203.851019\"/>\n     <use style=\"fill:#1f77b4;stroke:#1f77b4;\" x=\"113.08875\" xlink:href=\"#m34fd04d725\" y=\"186.291866\"/>\n     <use style=\"fill:#1f77b4;stroke:#1f77b4;\" x=\"142.38375\" xlink:href=\"#m34fd04d725\" y=\"168.658972\"/>\n     <use style=\"fill:#1f77b4;stroke:#1f77b4;\" x=\"192.60375\" xlink:href=\"#m34fd04d725\" y=\"151.26741\"/>\n     <use style=\"fill:#1f77b4;stroke:#1f77b4;\" x=\"430.498317\" xlink:href=\"#m34fd04d725\" y=\"-1\"/>\n     <use style=\"fill:#1f77b4;stroke:#1f77b4;\" x=\"450.222421\" xlink:href=\"#m34fd04d725\" y=\"-1\"/>\n     <use style=\"fill:#1f77b4;stroke:#1f77b4;\" x=\"267.93375\" xlink:href=\"#m34fd04d725\" y=\"115.744648\"/>\n     <use style=\"fill:#1f77b4;stroke:#1f77b4;\" x=\"444.212607\" xlink:href=\"#m34fd04d725\" y=\"-1\"/>\n     <use style=\"fill:#1f77b4;stroke:#1f77b4;\" x=\"451.516643\" xlink:href=\"#m34fd04d725\" y=\"-1\"/>\n     <use style=\"fill:#1f77b4;stroke:#1f77b4;\" x=\"385.11375\" xlink:href=\"#m34fd04d725\" y=\"41.836657\"/>\n     <use style=\"fill:#1f77b4;stroke:#1f77b4;\" x=\"451.303093\" xlink:href=\"#m34fd04d725\" y=\"-1\"/>\n    </g>\n   </g>\n   <g id=\"patch_3\">\n    <path d=\"M 62.86875 239.758125 \nL 62.86875 22.318125 \n\" style=\"fill:none;stroke:#000000;stroke-linecap:square;stroke-linejoin:miter;stroke-width:0.8;\"/>\n   </g>\n   <g id=\"patch_4\">\n    <path d=\"M 397.66875 239.758125 \nL 397.66875 22.318125 \n\" style=\"fill:none;stroke:#000000;stroke-linecap:square;stroke-linejoin:miter;stroke-width:0.8;\"/>\n   </g>\n   <g id=\"patch_5\">\n    <path d=\"M 62.86875 239.758125 \nL 397.66875 239.758125 \n\" style=\"fill:none;stroke:#000000;stroke-linecap:square;stroke-linejoin:miter;stroke-width:0.8;\"/>\n   </g>\n   <g id=\"patch_6\">\n    <path d=\"M 62.86875 22.318125 \nL 397.66875 22.318125 \n\" style=\"fill:none;stroke:#000000;stroke-linecap:square;stroke-linejoin:miter;stroke-width:0.8;\"/>\n   </g>\n   <g id=\"text_21\">\n    <!-- Time per inference over events per inference -->\n    <g transform=\"translate(94.435313 16.318125)scale(0.12 -0.12)\">\n     <defs>\n      <path d=\"M 30.609375 48.390625 \nQ 23.390625 48.390625 19.1875 42.75 \nQ 14.984375 37.109375 14.984375 27.296875 \nQ 14.984375 17.484375 19.15625 11.84375 \nQ 23.34375 6.203125 30.609375 6.203125 \nQ 37.796875 6.203125 41.984375 11.859375 \nQ 46.1875 17.53125 46.1875 27.296875 \nQ 46.1875 37.015625 41.984375 42.703125 \nQ 37.796875 48.390625 30.609375 48.390625 \nz\nM 30.609375 56 \nQ 42.328125 56 49.015625 48.375 \nQ 55.71875 40.765625 55.71875 27.296875 \nQ 55.71875 13.875 49.015625 6.21875 \nQ 42.328125 -1.421875 30.609375 -1.421875 \nQ 18.84375 -1.421875 12.171875 6.21875 \nQ 5.515625 13.875 5.515625 27.296875 \nQ 5.515625 40.765625 12.171875 48.375 \nQ 18.84375 56 30.609375 56 \nz\n\" id=\"DejaVuSans-111\"/>\n     </defs>\n     <use xlink:href=\"#DejaVuSans-84\"/>\n     <use x=\"57.958984\" xlink:href=\"#DejaVuSans-105\"/>\n     <use x=\"85.742188\" xlink:href=\"#DejaVuSans-109\"/>\n     <use x=\"183.154297\" xlink:href=\"#DejaVuSans-101\"/>\n     <use x=\"244.677734\" xlink:href=\"#DejaVuSans-32\"/>\n     <use x=\"276.464844\" xlink:href=\"#DejaVuSans-112\"/>\n     <use x=\"339.941406\" xlink:href=\"#DejaVuSans-101\"/>\n     <use x=\"401.464844\" xlink:href=\"#DejaVuSans-114\"/>\n     <use x=\"442.578125\" xlink:href=\"#DejaVuSans-32\"/>\n     <use x=\"474.365234\" xlink:href=\"#DejaVuSans-105\"/>\n     <use x=\"502.148438\" xlink:href=\"#DejaVuSans-110\"/>\n     <use x=\"565.527344\" xlink:href=\"#DejaVuSans-102\"/>\n     <use x=\"600.732422\" xlink:href=\"#DejaVuSans-101\"/>\n     <use x=\"662.255859\" xlink:href=\"#DejaVuSans-114\"/>\n     <use x=\"701.119141\" xlink:href=\"#DejaVuSans-101\"/>\n     <use x=\"762.642578\" xlink:href=\"#DejaVuSans-110\"/>\n     <use x=\"826.021484\" xlink:href=\"#DejaVuSans-99\"/>\n     <use x=\"881.001953\" xlink:href=\"#DejaVuSans-101\"/>\n     <use x=\"942.525391\" xlink:href=\"#DejaVuSans-32\"/>\n     <use x=\"974.3125\" xlink:href=\"#DejaVuSans-111\"/>\n     <use x=\"1035.494141\" xlink:href=\"#DejaVuSans-118\"/>\n     <use x=\"1094.673828\" xlink:href=\"#DejaVuSans-101\"/>\n     <use x=\"1156.197266\" xlink:href=\"#DejaVuSans-114\"/>\n     <use x=\"1197.310547\" xlink:href=\"#DejaVuSans-32\"/>\n     <use x=\"1229.097656\" xlink:href=\"#DejaVuSans-101\"/>\n     <use x=\"1290.621094\" xlink:href=\"#DejaVuSans-118\"/>\n     <use x=\"1349.800781\" xlink:href=\"#DejaVuSans-101\"/>\n     <use x=\"1411.324219\" xlink:href=\"#DejaVuSans-110\"/>\n     <use x=\"1474.703125\" xlink:href=\"#DejaVuSans-116\"/>\n     <use x=\"1513.912109\" xlink:href=\"#DejaVuSans-115\"/>\n     <use x=\"1566.011719\" xlink:href=\"#DejaVuSans-32\"/>\n     <use x=\"1597.798828\" xlink:href=\"#DejaVuSans-112\"/>\n     <use x=\"1661.275391\" xlink:href=\"#DejaVuSans-101\"/>\n     <use x=\"1722.798828\" xlink:href=\"#DejaVuSans-114\"/>\n     <use x=\"1763.912109\" xlink:href=\"#DejaVuSans-32\"/>\n     <use x=\"1795.699219\" xlink:href=\"#DejaVuSans-105\"/>\n     <use x=\"1823.482422\" xlink:href=\"#DejaVuSans-110\"/>\n     <use x=\"1886.861328\" xlink:href=\"#DejaVuSans-102\"/>\n     <use x=\"1922.066406\" xlink:href=\"#DejaVuSans-101\"/>\n     <use x=\"1983.589844\" xlink:href=\"#DejaVuSans-114\"/>\n     <use x=\"2022.453125\" xlink:href=\"#DejaVuSans-101\"/>\n     <use x=\"2083.976562\" xlink:href=\"#DejaVuSans-110\"/>\n     <use x=\"2147.355469\" xlink:href=\"#DejaVuSans-99\"/>\n     <use x=\"2202.335938\" xlink:href=\"#DejaVuSans-101\"/>\n    </g>\n   </g>\n  </g>\n </g>\n <defs>\n  <clipPath id=\"p76728219b2\">\n   <rect height=\"217.44\" width=\"334.8\" x=\"62.86875\" y=\"22.318125\"/>\n  </clipPath>\n </defs>\n</svg>\n",
            "image/png": "[encoded data removed]"
          },
          "metadata": {
            "needs_background": "light"
          }
        }
      ],
      "source": [
        "import matplotlib.pyplot as plt\n",
        "fig, ax = plt.subplots(1,1)\n",
        "\n",
        "#ax.set_xscale(\"log\")\n",
        "#ax.set_yscale(\"log\")\n",
        "\n",
        "ax.errorbar(batch_sizes, times_mean, fmt=\"o\", yerr=times_std)\n",
        "\n",
        "ax.set(title='Time per inference over events per inference')\n",
        "ax.set(xlabel=\"Events per inference\")\n",
        "ax.set(ylabel=\"Time per inference (s)\")\n",
        "ax.set_xlim(0, 80)\n",
        "ax.set_ylim(0, 0.0008)\n",
        "# plt.xlabel(\"Batch size\")\n",
        "# plt.ylabel(\"Time\")\n",
        "#plt.savefig(f\"{plots_dir}/{model_name}_inference_test.png\")\n"
      ]
    },
    {
      "cell_type": "code",
      "metadata": {
        "id": "ReB4ZijQdQFZ"
      },
      "source": [
        "\n",
        "#noise = np.load(f\"/home/luca/Documents/Project/data/testing_data.npy\").astype(np.float32)\n",
        "print(noise[:600000, :, :].shape)\n",
        "np.save('/home/luca/Documents/Project/data/testing_data_300k',noise[:300000, :, :])"
      ],
      "execution_count": 10,
      "outputs": [
        {
          "output_type": "stream",
          "name": "stdout",
          "text": [
            "(600000, 256, 1)\n"
          ]
        }
      ]
    },
    {
      "cell_type": "code",
      "metadata": {
        "id": "-LiqtRLydQFc"
      },
      "source": [
        "x = np.vstack((noise, signal))  # shape is (200000, 4, 256)\n",
        "\n",
        "x2 = np.swapaxes(x, 1, 2)  # (200000, 256, 1)\n",
        "n_samples = x2.shape[1]\n",
        "n_channels = x2.shape[2]\n",
        "x_1D = np.reshape(x, (x.shape[0], -1))  # shape is (200000, 256)\n",
        "x3 = np.expand_dims(x2, axis=-1)       #input for conv layer"
      ],
      "execution_count": 4,
      "outputs": []
    },
    {
      "cell_type": "code",
      "metadata": {
        "id": "OqtIez1HdQFg"
      },
      "source": [
        "# define labels with one hot encoding, (1,0) -> noise, (0,1) -> signal\n",
        "y = np.zeros((200000, 2))\n",
        "y[:100000, 0] = 1\n",
        "y[100000:, 1] = 1"
      ],
      "execution_count": 5,
      "outputs": []
    },
    {
      "cell_type": "code",
      "metadata": {
        "id": "mzjVK9L2FudT"
      },
      "source": [
        "#train_test_split\n",
        "X_train, X_test, y_train, y_test = train_test_split(x_1D, y, random_state = 30)"
      ],
      "execution_count": 6,
      "outputs": []
    },
    {
      "cell_type": "code",
      "metadata": {
        "id": "U7_omlr4dQFk"
      },
      "source": [
        "BATCH_SIZE = 32\n",
        "EPOCHS = 50\n",
        "callbacks_list = [keras.callbacks.EarlyStopping(monitor='val_accuracy', patience=1)]"
      ],
      "execution_count": 7,
      "outputs": []
    },
    {
      "cell_type": "code",
      "metadata": {
        "id": "bNpKEMqRdQFn"
      },
      "source": [
        "#Fully connected network\n",
        "#model_fc_1l_64  = keras.Sequential(\n",
        " #   [\n",
        "  #      Dense(64, activation=\"relu\", name=\"layer1\", input_dim=x_1D.shape[-1]),\n",
        "        #Dense(64, activation=\"relu\", name=\"layer2\"),\n",
        "        #Dense(64, activation=\"relu\", name=\"layer3\"),\n",
        "        #Dense(64, activation=\"relu\", name=\"layer4\"),\n",
        "   #     Dense(n_classes, activation=\"softmax\", name=\"layer5\"),\n",
        "    #]\n",
        "#)"
      ],
      "execution_count": 8,
      "outputs": []
    },
    {
      "cell_type": "code",
      "metadata": {
        "id": "QuqxNO9Y0ZdF"
      },
      "source": [
        "#1D - Convolutional Network\n",
        "#model_conv1D_2l_10_10_test = Sequential(\n",
        " #   [\n",
        "  #      Conv1D(10, 10, activation='relu', name=\"layer1\", input_shape=(n_samples, n_channels)), # n_filters, n_width\n",
        "   #     Conv1D(10, 10, activation='relu', name=\"layer2\"), # n_filters, n_width\n",
        "        #Conv1D(10, 10, activation='relu', name=\"layer3\"),\n",
        "        #Conv1D(10, 10, activation='relu', name=\"layer4\"),\n",
        "    #    Dropout(0.5, name=\"layer5\"),\n",
        "        #MaxPooling1D(pool_size=(3)),\n",
        "     #   Flatten(name=\"layer6\"),\n",
        "      #  Dense(n_classes, activation='softmax', name=\"layer7\")\n",
        "    #]\n",
        "#)"
      ],
      "execution_count": 9,
      "outputs": []
    },
    {
      "cell_type": "code",
      "metadata": {
        "id": "GSjctsO5WywH"
      },
      "source": [],
      "execution_count": 10,
      "outputs": []
    },
    {
      "cell_type": "code",
      "metadata": {
        "id": "mKv-mjfCSkPE",
        "colab": {
          "base_uri": "https://localhost:8080/"
        },
        "outputId": "3181dc5a-42e4-49a6-db3b-1e2bcb48d3be"
      },
      "source": [
        "print(X_train.shape)"
      ],
      "execution_count": 11,
      "outputs": [
        {
          "output_type": "stream",
          "text": [
            "(150000, 256)\n"
          ],
          "name": "stdout"
        }
      ]
    },
    {
      "cell_type": "code",
      "metadata": {
        "id": "SjtZ2OetXM9v"
      },
      "source": [
        "model = model_fc_1l_64\n",
        "model_name = 'model_fc_1l_64'\n",
        "\n",
        "# train the network\n",
        "model.compile(optimizer='Adam',\n",
        "          loss='binary_crossentropy',\n",
        "          metrics=['accuracy'])\n",
        "\n",
        "print(model_name)\n",
        "print(model.summary())\n",
        "\n",
        "model.fit(X_train,y_train,\n",
        "          batch_size=BATCH_SIZE,\n",
        "          epochs=EPOCHS,\n",
        "          callbacks=callbacks_list,\n",
        "          validation_split=0.2,\n",
        "          verbose=1)\n",
        "model.save(f'/models/'+model_name+'.h5')"
      ],
      "execution_count": null,
      "outputs": []
    },
    {
      "cell_type": "code",
      "metadata": {
        "id": "ea7aTIecdQF6"
      },
      "source": [
        "#########################\n",
        "###second part of code###\n",
        "#########################\n",
        "\n",
        "#model prediction + efficiency curve\n",
        "\n",
        "#model_name = 'model_fc_1l_64'\n",
        "#model = keras.models.load_model(f'/content/drive/My Drive/NN/'+model_name+'.h5', compile=False)\n",
        "y_pred = model.predict(X_test) #X_test, or np.reshape(X_test, (X_test.shape[0], -1))"
      ],
      "execution_count": 13,
      "outputs": []
    },
    {
      "cell_type": "code",
      "metadata": {
        "colab": {
          "base_uri": "https://localhost:8080/"
        },
        "id": "atYLHnb0dNyf",
        "outputId": "1e85ac2f-4db8-4916-93d5-cea99ab41a84"
      },
      "source": [
        "print(y_pred)"
      ],
      "execution_count": 14,
      "outputs": [
        {
          "output_type": "stream",
          "text": [
            "[[1.0000000e+00 5.7112349e-08]\n",
            " [9.9999619e-01 3.8326857e-06]\n",
            " [7.2845622e-20 1.0000000e+00]\n",
            " ...\n",
            " [9.9999416e-01 5.8556566e-06]\n",
            " [1.0000000e+00 7.3703865e-09]\n",
            " [9.9999881e-01 1.1627966e-06]]\n"
          ],
          "name": "stdout"
        }
      ]
    },
    {
      "cell_type": "code",
      "metadata": {
        "id": "_0RttWqkmpgX"
      },
      "source": [
        "tot_n = int(y_test[:,0].sum())\n",
        "tot_s = int(y_test[:,1].sum())\n",
        "\n",
        "s_should = []\n",
        "n_should  = []\n",
        "\n",
        "for i in range(len(y_pred[:,0])):\n",
        "  if y_test[i,1] == 1:\n",
        "    s_should.append(y_pred[i,1])\n",
        "\n",
        "  else:\n",
        "    n_should.append(y_pred[i,0])\n",
        "\n",
        "yy = np.log10(np.linspace(10 ** 0.001, 10 ** 0.99999, 1000))\n",
        "n = np.zeros_like(yy)\n",
        "s = np.zeros_like(yy)"
      ],
      "execution_count": 64,
      "outputs": []
    },
    {
      "cell_type": "code",
      "metadata": {
        "colab": {
          "base_uri": "https://localhost:8080/"
        },
        "id": "sPRU08xeurVx",
        "outputId": "f4340cc4-4372-4eaa-a0b0-0a87be42a9be"
      },
      "source": [
        "print(tot_n)"
      ],
      "execution_count": 72,
      "outputs": [
        {
          "output_type": "stream",
          "text": [
            "25076\n"
          ],
          "name": "stdout"
        }
      ]
    },
    {
      "cell_type": "code",
      "metadata": {
        "id": "Uq5PmqDYdQGA"
      },
      "source": [
        "for iT, threshold in enumerate(yy):\n",
        "    eff_signal = np.sum((s_should > threshold) == True) / tot_s\n",
        "    s[iT] = eff_signal\n",
        "    eff_noise = np.sum((n_should > threshold) == False) / tot_n\n",
        "    \n",
        "    if eff_noise < 1:\n",
        "        reduction_factor = np.log10(1 / (1 - eff_noise))\n",
        "    else:\n",
        "        reduction_factor = np.log10(1000000)\n",
        "    n[iT] = 10 ** reduction_factor"
      ],
      "execution_count": 82,
      "outputs": []
    },
    {
      "cell_type": "code",
      "metadata": {
        "id": "PJ9ctxdc5DFs"
      },
      "source": [
        "print(s, n)"
      ],
      "execution_count": null,
      "outputs": []
    },
    {
      "cell_type": "code",
      "metadata": {
        "colab": {
          "base_uri": "https://localhost:8080/",
          "height": 441
        },
        "id": "TODSNeXkdQGC",
        "outputId": "00fa01fd-0529-4186-c83f-07ed6afa56a6"
      },
      "source": [
        "fig, ax = plt.subplots(1, 1, figsize=(6, 6))\n",
        "ax.plot(s, n)\n",
        "#plt.xlim(0.95, 1)\n",
        "#plt.ylim(0, 1.36)\n",
        "ax.set_xlabel(\"Signal efficiency\")\n",
        "ax.set_ylabel(\"Noise reduction factor\")\n",
        "ax.semilogy(True)\n",
        "ax.set_title(\"Noise rejection vs. Neutrino signal efficiency\")\n",
        "fig.tight_layout()\n",
        "#fig.savefig(\"/content/drive/My Drive/NN/efficiency_curve_\"+model_name+\".png\")\n",
        "plt.show()"
      ],
      "execution_count": 83,
      "outputs": [
        {
          "output_type": "display_data",
          "data": {
            "image/png": "[encoded data removed]",
            "text/plain": [
              "<Figure size 432x432 with 1 Axes>"
            ]
          },
          "metadata": {
            "tags": [],
            "needs_background": "light"
          }
        }
      ]
    }
  ]
}