{
 "metadata": {
  "language_info": {
   "codemirror_mode": {
    "name": "ipython",
    "version": 3
   },
   "file_extension": ".py",
   "mimetype": "text/x-python",
   "name": "python",
   "nbconvert_exporter": "python",
   "pygments_lexer": "ipython3",
   "version": "3.8.8-final"
  },
  "orig_nbformat": 2,
  "kernelspec": {
   "name": "python388jvsc74a57bd08973115da75745db42789df135534daed99c5f70f944bade3ce5259e320257cc",
   "display_name": "Python 3.8.8 64-bit ('tf': conda)"
  }
 },
 "nbformat": 4,
 "nbformat_minor": 2,
 "cells": [
  {
   "cell_type": "code",
   "execution_count": 1,
   "metadata": {},
   "outputs": [],
   "source": [
    "import os\n",
    "import matplotlib.pyplot as plt\n",
    "import numpy as np\n",
    "\n",
    "from tensorflow import keras\n",
    "from tensorflow.keras.models import Sequential\n",
    "from tensorflow.keras.layers import Dense, Dropout, Flatten, Reshape, GlobalAveragePooling1D, Activation, GlobalAveragePooling2D\n",
    "from tensorflow.keras.layers import Conv2D, MaxPooling2D, Conv1D, MaxPooling1D"
   ]
  },
  {
   "cell_type": "code",
   "execution_count": 2,
   "metadata": {},
   "outputs": [],
   "source": [
    "noise = np.load(\"data/data_noise_3.0SNR_1ch_0000.npy\").astype(np.float32)\n",
    "signal = np.load(\"data/data_signal_B_1ch_0000.npy\").astype(np.float32)\n",
    "n_classes = 2"
   ]
  },
  {
   "cell_type": "code",
   "execution_count": 3,
   "metadata": {},
   "outputs": [],
   "source": [
    "x = np.vstack((noise, signal))  # shape is (200000, 4, 256)\n",
    "\n",
    "x2 = np.swapaxes(x, 1, 2)  # (200000, 256, 4)\n",
    "n_samples = x2.shape[1]\n",
    "n_channels = x2.shape[2]\n",
    "x_1D = np.reshape(x, (x.shape[0], -1))  # shape is (200000, 256)\n",
    "x3 = np.expand_dims(x2, axis=-1)"
   ]
  },
  {
   "cell_type": "code",
   "execution_count": 4,
   "metadata": {},
   "outputs": [],
   "source": [
    "# define labels with one hot encoding, (1,0) -> noise, (0,1) -> signal\n",
    "y = np.zeros((200000, 2))\n",
    "y[:100000, 0] = 1\n",
    "y[100000:, 1] = 1\n",
    "\n",
    "y2 = np.zeros(200000)\n",
    "y2[:100000] = 1"
   ]
  },
  {
   "cell_type": "code",
   "execution_count": 5,
   "metadata": {},
   "outputs": [],
   "source": [
    "BATCH_SIZE = 32\n",
    "EPOCHS = 50\n",
    "callbacks_list = [keras.callbacks.EarlyStopping(monitor='val_accuracy', patience=2)]"
   ]
  },
  {
   "cell_type": "code",
   "execution_count": 6,
   "metadata": {},
   "outputs": [],
   "source": [
    "model_fc_1layer64  = keras.Sequential(\n",
    "    [\n",
    "        Dense(64, activation=\"relu\", name=\"layer1\", input_dim=x_1D.shape[-1]),\n",
    "        Dense(64, activation=\"relu\", name=\"layer2\"),\n",
    "        Dense(2, name=\"layer3\"),\n",
    "    ]\n",
    ")"
   ]
  },
  {
   "cell_type": "code",
   "execution_count": 7,
   "metadata": {},
   "outputs": [
    {
     "output_type": "stream",
     "name": "stdout",
     "text": [
      "Model: \"sequential\"\n",
      "_________________________________________________________________\n",
      "Layer (type)                 Output Shape              Param #   \n",
      "=================================================================\n",
      "layer1 (Dense)               (None, 64)                16448     \n",
      "_________________________________________________________________\n",
      "layer2 (Dense)               (None, 64)                4160      \n",
      "_________________________________________________________________\n",
      "layer3 (Dense)               (None, 2)                 130       \n",
      "=================================================================\n",
      "Total params: 20,738\n",
      "Trainable params: 20,738\n",
      "Non-trainable params: 0\n",
      "_________________________________________________________________\n",
      "None\n",
      "Epoch 1/50\n",
      "5000/5000 [==============================] - 78s 15ms/step - loss: 0.3359 - accuracy: 0.8897 - val_loss: 0.0985 - val_accuracy: 0.9802\n",
      "Epoch 2/50\n",
      "5000/5000 [==============================] - 73s 15ms/step - loss: 0.2023 - accuracy: 0.9692 - val_loss: 0.0873 - val_accuracy: 0.9848\n",
      "Epoch 3/50\n",
      "5000/5000 [==============================] - 72s 14ms/step - loss: 0.0313 - accuracy: 0.9943 - val_loss: 0.0830 - val_accuracy: 0.9881\n",
      "Epoch 4/50\n",
      "5000/5000 [==============================] - 74s 15ms/step - loss: 0.0338 - accuracy: 0.9946 - val_loss: 0.0673 - val_accuracy: 0.9906\n",
      "Epoch 5/50\n",
      "5000/5000 [==============================] - 73s 15ms/step - loss: 0.0394 - accuracy: 0.9933 - val_loss: 0.0996 - val_accuracy: 0.9876\n",
      "Epoch 6/50\n",
      "5000/5000 [==============================] - 71s 14ms/step - loss: 0.0245 - accuracy: 0.9966 - val_loss: 0.1035 - val_accuracy: 0.9874\n"
     ]
    }
   ],
   "source": [
    "model_fc_1layer64.compile(optimizer='Adam',\n",
    "          loss='binary_crossentropy',\n",
    "          metrics=['accuracy'])\n",
    "\n",
    "print(model_fc_1layer64.summary())\n",
    "model_fc_1layer64.fit(x_1D,y,\n",
    "          batch_size=BATCH_SIZE,\n",
    "          epochs=EPOCHS,\n",
    "          callbacks=callbacks_list,\n",
    "          validation_split=0.2,\n",
    "          verbose=1)\n",
    "model_fc_1layer64.save(f'models/model_fc_1layer64_test.h5')"
   ]
  }
 ]
}